{
 "cells": [
  {
   "cell_type": "markdown",
   "metadata": {
    "colab_type": "text",
    "id": "view-in-github"
   },
   "source": [
    "<a href=\"https://colab.research.google.com/github/hemantkashniyal/EVA4/blob/master/notebooks/Session8/Session_8.ipynb\" target=\"_parent\"><img src=\"https://colab.research.google.com/assets/colab-badge.svg\" alt=\"Open In Colab\"/></a>"
   ]
  },
  {
   "cell_type": "code",
   "execution_count": 1,
   "metadata": {
    "colab": {},
    "colab_type": "code",
    "id": "PjZ1brB6K7ED"
   },
   "outputs": [
    {
     "name": "stdout",
     "output_type": "stream",
     "text": [
      "/home/jovyan/workspace/notebooks/Session8\n",
      "False\n"
     ]
    }
   ],
   "source": [
    "!pwd\n",
    "\n",
    "import torch\n",
    "print(torch.cuda.is_available())\n",
    "\n",
    "! git clone https://github.com/hemantkashniyal/EVA4.git || true\n",
    "! git -C EVA4 pull\n",
    "! cp -r /content/EVA4/eva4 .\n",
    "! cp -r /content/EVA4/requirements.txt ."
   ]
  },
  {
   "cell_type": "code",
   "execution_count": 2,
   "metadata": {
    "colab": {
     "base_uri": "https://localhost:8080/",
     "height": 204
    },
    "colab_type": "code",
    "id": "uWgBFzboK3T5",
    "outputId": "c0569f3b-fdd8-4191-a5a4-9e2f288e4e8e"
   },
   "outputs": [
    {
     "name": "stdout",
     "output_type": "stream",
     "text": [
      "env: PYTHONDONTWRITEBYTECODE=true\n"
     ]
    }
   ],
   "source": [
    "%env PYTHONDONTWRITEBYTECODE=true\n",
    "! pip install -r requirements.txt\n",
    "    "
   ]
  },
  {
   "cell_type": "code",
   "execution_count": 3,
   "metadata": {
    "colab": {
     "base_uri": "https://localhost:8080/",
     "height": 646
    },
    "colab_type": "code",
    "id": "wv-Qb03GK3T-",
    "outputId": "8b7d7508-00f6-470c-87ef-1f335764dedd"
   },
   "outputs": [
    {
     "name": "stdout",
     "output_type": "stream",
     "text": [
      "Experiment Config:  {\n",
      "    \"cuda_available\": false,\n",
      "    \"device\": \"cpu\",\n",
      "    \"epochs\": 100,\n",
      "    \"desired_accuracy\": 80.0,\n",
      "    \"break_on_reaching_desired_accuracy\": true,\n",
      "    \"consecutive_desired_accuracy\": 3,\n",
      "    \"dataset\": {\n",
      "        \"type\": \"CIFAR10\",\n",
      "        \"dataset_root\": \"../data\",\n",
      "        \"batch_size\": 64,\n",
      "        \"shuffle\": true,\n",
      "        \"num_workers\": 1,\n",
      "        \"pin_memory\": true,\n",
      "        \"input_size\": [\n",
      "            3,\n",
      "            32,\n",
      "            32\n",
      "        ],\n",
      "        \"input_channel\": 3,\n",
      "        \"input_dimension\": [\n",
      "            32,\n",
      "            32\n",
      "        ],\n",
      "        \"dataset_std\": [\n",
      "            0.247,\n",
      "            0.2435,\n",
      "            0.2616\n",
      "        ],\n",
      "        \"dataset_mean\": [\n",
      "            0.4914,\n",
      "            0.4822,\n",
      "            0.4465\n",
      "        ]\n",
      "    },\n",
      "    \"scheduler\": {\n",
      "        \"type\": \"MultiStepLR\",\n",
      "        \"milestones\": [\n",
      "            10,\n",
      "            20,\n",
      "            35,\n",
      "            50\n",
      "        ],\n",
      "        \"gamma\": 0.1\n",
      "    },\n",
      "    \"optimizer\": {\n",
      "        \"type\": \"SGD\",\n",
      "        \"learning_rate\": 0.1,\n",
      "        \"momentum\": 0.9\n",
      "    },\n",
      "    \"network\": {\n",
      "        \"dropout\": 0.1,\n",
      "        \"bias_enabled\": true,\n",
      "        \"input_channel\": 3\n",
      "    }\n",
      "}\n"
     ]
    }
   ],
   "source": [
    "%matplotlib inline\n",
    "\n",
    "import json\n",
    "from environs import Env\n",
    "\n",
    "from eva4.config.config import TrainingConfig\n",
    "from eva4.common import reset_seed\n",
    "\n",
    "env = Env()\n",
    "env.read_env(\"./cifar10.experiment.env.txt\", recurse=False)\n",
    "\n",
    "config = TrainingConfig()\n",
    "print(\"Experiment Config: \", json.dumps(config, default=lambda x: x.__dict__, sort_keys=False, indent=4))"
   ]
  },
  {
   "cell_type": "code",
   "execution_count": 5,
   "metadata": {
    "colab": {
     "base_uri": "https://localhost:8080/",
     "height": 119
    },
    "colab_type": "code",
    "id": "89TSvdKlK3UC",
    "outputId": "5a34b557-6e1a-4829-cada-6685eb0324d6"
   },
   "outputs": [],
   "source": [
    "from torchvision import transforms\n",
    "from imageaug.transforms import Colorspace, RandomAdjustment, RandomRotatedCrop\n",
    "\n",
    "dataset_std = config.dataset.dataset_std\n",
    "dataset_mean = config.dataset.dataset_mean\n",
    "\n",
    "# Define training transforms\n",
    "train_transforms = transforms.Compose([\n",
    "    transforms.RandomCrop(32, padding=4),\n",
    "    transforms.RandomHorizontalFlip(),\n",
    "    transforms.ToTensor(),\n",
    "    transforms.Normalize(dataset_mean, dataset_std),\n",
    "])\n",
    "train_transforms = None\n",
    "\n",
    "# Define test transforms\n",
    "test_transforms = transforms.Compose([\n",
    "    transforms.ToTensor(),\n",
    "    transforms.Normalize(dataset_mean, dataset_std),\n",
    "])\n",
    "test_transforms = None"
   ]
  },
  {
   "cell_type": "code",
   "execution_count": 6,
   "metadata": {
    "colab": {
     "base_uri": "https://localhost:8080/",
     "height": 1000
    },
    "colab_type": "code",
    "id": "f3Pe7uKWK3UI",
    "outputId": "ba8927c4-3e3f-4624-c406-c89f5a24e041"
   },
   "outputs": [
    {
     "name": "stdout",
     "output_type": "stream",
     "text": [
      "Files already downloaded and verified\n",
      "Files already downloaded and verified\n"
     ]
    }
   ],
   "source": [
    "reset_seed()\n",
    "from eva4.dataset.dataset_manager import DatasetManager\n",
    "\n",
    "dataset = DatasetManager.get_dataset(config.dataset, train_transforms, test_transforms)"
   ]
  },
  {
   "cell_type": "code",
   "execution_count": 7,
   "metadata": {
    "colab": {
     "base_uri": "https://localhost:8080/",
     "height": 1000
    },
    "colab_type": "code",
    "id": "dUq_zXAmK3UL",
    "outputId": "d820abd1-9429-4294-922a-2c5a1285884f"
   },
   "outputs": [
    {
     "name": "stdout",
     "output_type": "stream",
     "text": [
      "----------------------------------------------------------------\n",
      "        Layer (type)               Output Shape         Param #\n",
      "================================================================\n",
      "            Conv2d-1           [-1, 16, 32, 32]             432\n",
      "              ReLU-2           [-1, 16, 32, 32]               0\n",
      "       BatchNorm2d-3           [-1, 16, 32, 32]              32\n",
      "           Dropout-4           [-1, 16, 32, 32]               0\n",
      "     InternalBlock-5           [-1, 16, 32, 32]               0\n",
      "            Conv2d-6           [-1, 32, 32, 32]           4,608\n",
      "              ReLU-7           [-1, 32, 32, 32]               0\n",
      "       BatchNorm2d-8           [-1, 32, 32, 32]              64\n",
      "           Dropout-9           [-1, 32, 32, 32]               0\n",
      "    InternalBlock-10           [-1, 32, 32, 32]               0\n",
      "           Conv2d-11           [-1, 64, 30, 30]          18,432\n",
      "             ReLU-12           [-1, 64, 30, 30]               0\n",
      "      BatchNorm2d-13           [-1, 64, 30, 30]             128\n",
      "          Dropout-14           [-1, 64, 30, 30]               0\n",
      "    InternalBlock-15           [-1, 64, 30, 30]               0\n",
      "           Conv2d-16           [-1, 64, 28, 28]             576\n",
      "           Conv2d-17          [-1, 128, 30, 30]           8,192\n",
      "             ReLU-18          [-1, 128, 30, 30]               0\n",
      "      BatchNorm2d-19          [-1, 128, 30, 30]             256\n",
      "          Dropout-20          [-1, 128, 30, 30]               0\n",
      "DeepthSeparableBlock-21          [-1, 128, 30, 30]               0\n",
      "           Conv2d-22           [-1, 32, 32, 32]           4,096\n",
      "             ReLU-23           [-1, 32, 32, 32]               0\n",
      "      BatchNorm2d-24           [-1, 32, 32, 32]              64\n",
      "        MaxPool2d-25           [-1, 32, 16, 16]               0\n",
      "  TransitionBlock-26           [-1, 32, 16, 16]               0\n",
      "           Conv2d-27           [-1, 64, 16, 16]          18,432\n",
      "             ReLU-28           [-1, 64, 16, 16]               0\n",
      "      BatchNorm2d-29           [-1, 64, 16, 16]             128\n",
      "          Dropout-30           [-1, 64, 16, 16]               0\n",
      "    InternalBlock-31           [-1, 64, 16, 16]               0\n",
      "           Conv2d-32          [-1, 128, 16, 16]          73,728\n",
      "             ReLU-33          [-1, 128, 16, 16]               0\n",
      "      BatchNorm2d-34          [-1, 128, 16, 16]             256\n",
      "          Dropout-35          [-1, 128, 16, 16]               0\n",
      "    InternalBlock-36          [-1, 128, 16, 16]               0\n",
      "           Conv2d-37          [-1, 128, 16, 16]           1,152\n",
      "           Conv2d-38          [-1, 256, 18, 18]          32,768\n",
      "             ReLU-39          [-1, 256, 18, 18]               0\n",
      "      BatchNorm2d-40          [-1, 256, 18, 18]             512\n",
      "          Dropout-41          [-1, 256, 18, 18]               0\n",
      "DeepthSeparableBlock-42          [-1, 256, 18, 18]               0\n",
      "           Conv2d-43           [-1, 32, 20, 20]           8,192\n",
      "             ReLU-44           [-1, 32, 20, 20]               0\n",
      "      BatchNorm2d-45           [-1, 32, 20, 20]              64\n",
      "        MaxPool2d-46           [-1, 32, 10, 10]               0\n",
      "  TransitionBlock-47           [-1, 32, 10, 10]               0\n",
      "           Conv2d-48           [-1, 64, 10, 10]          18,432\n",
      "             ReLU-49           [-1, 64, 10, 10]               0\n",
      "      BatchNorm2d-50           [-1, 64, 10, 10]             128\n",
      "          Dropout-51           [-1, 64, 10, 10]               0\n",
      "    InternalBlock-52           [-1, 64, 10, 10]               0\n",
      "           Conv2d-53          [-1, 128, 10, 10]          73,728\n",
      "             ReLU-54          [-1, 128, 10, 10]               0\n",
      "      BatchNorm2d-55          [-1, 128, 10, 10]             256\n",
      "          Dropout-56          [-1, 128, 10, 10]               0\n",
      "    InternalBlock-57          [-1, 128, 10, 10]               0\n",
      "           Conv2d-58           [-1, 32, 12, 12]           4,096\n",
      "             ReLU-59           [-1, 32, 12, 12]               0\n",
      "      BatchNorm2d-60           [-1, 32, 12, 12]              64\n",
      "        MaxPool2d-61             [-1, 32, 6, 6]               0\n",
      "  TransitionBlock-62             [-1, 32, 6, 6]               0\n",
      "        AvgPool2d-63             [-1, 32, 1, 1]               0\n",
      "         GAPBlock-64             [-1, 32, 1, 1]               0\n",
      "           Conv2d-65             [-1, 10, 1, 1]             320\n",
      "================================================================\n",
      "Total params: 269,136\n",
      "Trainable params: 269,136\n",
      "Non-trainable params: 0\n",
      "----------------------------------------------------------------\n",
      "Input size (MB): 0.01\n",
      "Forward/backward pass size (MB): 16.21\n",
      "Params size (MB): 1.03\n",
      "Estimated Total Size (MB): 17.25\n",
      "----------------------------------------------------------------\n"
     ]
    },
    {
     "name": "stderr",
     "output_type": "stream",
     "text": [
      "/home/jovyan/workspace/notebooks/Session8/eva4/network/cifar10/cifar10.py:66: UserWarning: Implicit dimension choice for log_softmax has been deprecated. Change the call to include dim=X as an argument.\n",
      "  return F.log_softmax(x)\n"
     ]
    }
   ],
   "source": [
    "from eva4.network.network_manager import NetworkManager\n",
    "\n",
    "from eva4.network.cifar10.cifar10 import CIFAR10Net\n",
    "network = CIFAR10Net(config.network)\n",
    "NetworkManager.summarize(network, config.network, config.dataset)"
   ]
  },
  {
   "cell_type": "code",
   "execution_count": 9,
   "metadata": {
    "colab": {},
    "colab_type": "code",
    "id": "RU1ZasFp0U9Z"
   },
   "outputs": [],
   "source": [
    "from eva4.optimizer.optimizer_manager import OptimizerManager\n",
    "\n",
    "optimizer = OptimizerManager.get_optimizer(network, config.optimizer)"
   ]
  },
  {
   "cell_type": "code",
   "execution_count": 11,
   "metadata": {},
   "outputs": [],
   "source": [
    "from eva4.scheduler.scheduler_manager import SchedulerManager\n",
    "\n",
    "scheduler = SchedulerManager.get_scheduler(optimizer, config.scheduler)"
   ]
  },
  {
   "cell_type": "code",
   "execution_count": 12,
   "metadata": {},
   "outputs": [
    {
     "name": "stderr",
     "output_type": "stream",
     "text": [
      "  0%|          | 0/782 [00:00<?, ?it/s]"
     ]
    },
    {
     "name": "stdout",
     "output_type": "stream",
     "text": [
      "EPOCH: 0\n"
     ]
    },
    {
     "name": "stderr",
     "output_type": "stream",
     "text": [
      "Loss=2.405003070831299 Batch_id=2 Accuracy=8.33:   0%|          | 3/782 [00:06<31:35,  2.43s/it] Traceback (most recent call last):\n",
      "  File \"/opt/conda/lib/python3.7/multiprocessing/queues.py\", line 242, in _feed\n",
      "    send_bytes(obj)\n",
      "  File \"/opt/conda/lib/python3.7/multiprocessing/connection.py\", line 200, in send_bytes\n",
      "    self._send_bytes(m[offset:offset + size])\n",
      "  File \"/opt/conda/lib/python3.7/multiprocessing/connection.py\", line 404, in _send_bytes\n",
      "    self._send(header + buf)\n",
      "  File \"/opt/conda/lib/python3.7/multiprocessing/connection.py\", line 368, in _send\n",
      "    n = write(self._handle, buf)\n",
      "BrokenPipeError: [Errno 32] Broken pipe\n"
     ]
    },
    {
     "ename": "KeyboardInterrupt",
     "evalue": "",
     "output_type": "error",
     "traceback": [
      "\u001b[0;31m---------------------------------------------------------------------------\u001b[0m",
      "\u001b[0;31mKeyboardInterrupt\u001b[0m                         Traceback (most recent call last)",
      "\u001b[0;32m<ipython-input-12-ba4afb23437f>\u001b[0m in \u001b[0;36m<module>\u001b[0;34m\u001b[0m\n\u001b[1;32m      3\u001b[0m \u001b[0;34m\u001b[0m\u001b[0m\n\u001b[1;32m      4\u001b[0m \u001b[0mtraining\u001b[0m \u001b[0;34m=\u001b[0m \u001b[0mTrainingManager\u001b[0m\u001b[0;34m(\u001b[0m\u001b[0mconfig\u001b[0m\u001b[0;34m,\u001b[0m \u001b[0mdataset\u001b[0m\u001b[0;34m,\u001b[0m \u001b[0mnetwork\u001b[0m\u001b[0;34m,\u001b[0m \u001b[0mscheduler\u001b[0m\u001b[0;34m,\u001b[0m \u001b[0moptimizer\u001b[0m\u001b[0;34m)\u001b[0m\u001b[0;34m\u001b[0m\u001b[0;34m\u001b[0m\u001b[0m\n\u001b[0;32m----> 5\u001b[0;31m \u001b[0mtraining\u001b[0m\u001b[0;34m.\u001b[0m\u001b[0mstart\u001b[0m\u001b[0;34m(\u001b[0m\u001b[0;34m)\u001b[0m\u001b[0;34m\u001b[0m\u001b[0;34m\u001b[0m\u001b[0m\n\u001b[0m",
      "\u001b[0;32m~/workspace/notebooks/Session8/eva4/training/training_manager.py\u001b[0m in \u001b[0;36mstart\u001b[0;34m(self)\u001b[0m\n\u001b[1;32m     30\u001b[0m         \u001b[0;32mfor\u001b[0m \u001b[0mepoch\u001b[0m \u001b[0;32min\u001b[0m \u001b[0mrange\u001b[0m\u001b[0;34m(\u001b[0m\u001b[0mself\u001b[0m\u001b[0;34m.\u001b[0m\u001b[0mconfig\u001b[0m\u001b[0;34m.\u001b[0m\u001b[0mepochs\u001b[0m\u001b[0;34m)\u001b[0m\u001b[0;34m:\u001b[0m\u001b[0;34m\u001b[0m\u001b[0;34m\u001b[0m\u001b[0m\n\u001b[1;32m     31\u001b[0m             \u001b[0mprint\u001b[0m\u001b[0;34m(\u001b[0m\u001b[0;34m\"EPOCH:\"\u001b[0m\u001b[0;34m,\u001b[0m \u001b[0mepoch\u001b[0m\u001b[0;34m)\u001b[0m\u001b[0;34m\u001b[0m\u001b[0;34m\u001b[0m\u001b[0m\n\u001b[0;32m---> 32\u001b[0;31m             \u001b[0mself\u001b[0m\u001b[0;34m.\u001b[0m\u001b[0mtrain\u001b[0m\u001b[0;34m(\u001b[0m\u001b[0;34m)\u001b[0m\u001b[0;34m\u001b[0m\u001b[0;34m\u001b[0m\u001b[0m\n\u001b[0m\u001b[1;32m     33\u001b[0m             \u001b[0maccuracy\u001b[0m \u001b[0;34m=\u001b[0m \u001b[0mself\u001b[0m\u001b[0;34m.\u001b[0m\u001b[0mtest\u001b[0m\u001b[0;34m(\u001b[0m\u001b[0;34m)\u001b[0m\u001b[0;34m\u001b[0m\u001b[0;34m\u001b[0m\u001b[0m\n\u001b[1;32m     34\u001b[0m             \u001b[0mscheduler\u001b[0m\u001b[0;34m.\u001b[0m\u001b[0mstep\u001b[0m\u001b[0;34m(\u001b[0m\u001b[0;34m)\u001b[0m\u001b[0;34m\u001b[0m\u001b[0;34m\u001b[0m\u001b[0m\n",
      "\u001b[0;32m~/workspace/notebooks/Session8/eva4/training/training_manager.py\u001b[0m in \u001b[0;36mtrain\u001b[0;34m(self)\u001b[0m\n\u001b[1;32m     65\u001b[0m \u001b[0;34m\u001b[0m\u001b[0m\n\u001b[1;32m     66\u001b[0m             \u001b[0;31m# Backpropagation\u001b[0m\u001b[0;34m\u001b[0m\u001b[0;34m\u001b[0m\u001b[0;34m\u001b[0m\u001b[0m\n\u001b[0;32m---> 67\u001b[0;31m             \u001b[0mloss\u001b[0m\u001b[0;34m.\u001b[0m\u001b[0mbackward\u001b[0m\u001b[0;34m(\u001b[0m\u001b[0;34m)\u001b[0m\u001b[0;34m\u001b[0m\u001b[0;34m\u001b[0m\u001b[0m\n\u001b[0m\u001b[1;32m     68\u001b[0m             \u001b[0mself\u001b[0m\u001b[0;34m.\u001b[0m\u001b[0moptimizer\u001b[0m\u001b[0;34m.\u001b[0m\u001b[0mstep\u001b[0m\u001b[0;34m(\u001b[0m\u001b[0;34m)\u001b[0m\u001b[0;34m\u001b[0m\u001b[0;34m\u001b[0m\u001b[0m\n\u001b[1;32m     69\u001b[0m \u001b[0;34m\u001b[0m\u001b[0m\n",
      "\u001b[0;32m/opt/conda/lib/python3.7/site-packages/torch/tensor.py\u001b[0m in \u001b[0;36mbackward\u001b[0;34m(self, gradient, retain_graph, create_graph)\u001b[0m\n\u001b[1;32m    193\u001b[0m                 \u001b[0mproducts\u001b[0m\u001b[0;34m.\u001b[0m \u001b[0mDefaults\u001b[0m \u001b[0mto\u001b[0m\u001b[0;31m \u001b[0m\u001b[0;31m`\u001b[0m\u001b[0;31m`\u001b[0m\u001b[0;32mFalse\u001b[0m\u001b[0;31m`\u001b[0m\u001b[0;31m`\u001b[0m\u001b[0;34m.\u001b[0m\u001b[0;34m\u001b[0m\u001b[0;34m\u001b[0m\u001b[0m\n\u001b[1;32m    194\u001b[0m         \"\"\"\n\u001b[0;32m--> 195\u001b[0;31m         \u001b[0mtorch\u001b[0m\u001b[0;34m.\u001b[0m\u001b[0mautograd\u001b[0m\u001b[0;34m.\u001b[0m\u001b[0mbackward\u001b[0m\u001b[0;34m(\u001b[0m\u001b[0mself\u001b[0m\u001b[0;34m,\u001b[0m \u001b[0mgradient\u001b[0m\u001b[0;34m,\u001b[0m \u001b[0mretain_graph\u001b[0m\u001b[0;34m,\u001b[0m \u001b[0mcreate_graph\u001b[0m\u001b[0;34m)\u001b[0m\u001b[0;34m\u001b[0m\u001b[0;34m\u001b[0m\u001b[0m\n\u001b[0m\u001b[1;32m    196\u001b[0m \u001b[0;34m\u001b[0m\u001b[0m\n\u001b[1;32m    197\u001b[0m     \u001b[0;32mdef\u001b[0m \u001b[0mregister_hook\u001b[0m\u001b[0;34m(\u001b[0m\u001b[0mself\u001b[0m\u001b[0;34m,\u001b[0m \u001b[0mhook\u001b[0m\u001b[0;34m)\u001b[0m\u001b[0;34m:\u001b[0m\u001b[0;34m\u001b[0m\u001b[0;34m\u001b[0m\u001b[0m\n",
      "\u001b[0;32m/opt/conda/lib/python3.7/site-packages/torch/autograd/__init__.py\u001b[0m in \u001b[0;36mbackward\u001b[0;34m(tensors, grad_tensors, retain_graph, create_graph, grad_variables)\u001b[0m\n\u001b[1;32m     97\u001b[0m     Variable._execution_engine.run_backward(\n\u001b[1;32m     98\u001b[0m         \u001b[0mtensors\u001b[0m\u001b[0;34m,\u001b[0m \u001b[0mgrad_tensors\u001b[0m\u001b[0;34m,\u001b[0m \u001b[0mretain_graph\u001b[0m\u001b[0;34m,\u001b[0m \u001b[0mcreate_graph\u001b[0m\u001b[0;34m,\u001b[0m\u001b[0;34m\u001b[0m\u001b[0;34m\u001b[0m\u001b[0m\n\u001b[0;32m---> 99\u001b[0;31m         allow_unreachable=True)  # allow_unreachable flag\n\u001b[0m\u001b[1;32m    100\u001b[0m \u001b[0;34m\u001b[0m\u001b[0m\n\u001b[1;32m    101\u001b[0m \u001b[0;34m\u001b[0m\u001b[0m\n",
      "\u001b[0;31mKeyboardInterrupt\u001b[0m: "
     ]
    }
   ],
   "source": [
    "from eva4.training.training_manager import TrainingManager\n",
    "\n",
    "\n",
    "training = TrainingManager(config, dataset, network, scheduler, optimizer)\n",
    "training.start()"
   ]
  },
  {
   "cell_type": "code",
   "execution_count": null,
   "metadata": {},
   "outputs": [],
   "source": []
  }
 ],
 "metadata": {
  "accelerator": "GPU",
  "colab": {
   "collapsed_sections": [],
   "include_colab_link": true,
   "name": "Session_8.ipynb",
   "provenance": []
  },
  "kernelspec": {
   "display_name": "Python 3",
   "language": "python",
   "name": "python3"
  },
  "language_info": {
   "codemirror_mode": {
    "name": "ipython",
    "version": 3
   },
   "file_extension": ".py",
   "mimetype": "text/x-python",
   "name": "python",
   "nbconvert_exporter": "python",
   "pygments_lexer": "ipython3",
   "version": "3.7.6"
  }
 },
 "nbformat": 4,
 "nbformat_minor": 4
}
