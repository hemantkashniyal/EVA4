{
  "nbformat": 4,
  "nbformat_minor": 0,
  "metadata": {
    "accelerator": "GPU",
    "colab": {
      "name": "Session_8.ipynb",
      "provenance": [],
      "collapsed_sections": [],
      "include_colab_link": true
    },
    "kernelspec": {
      "display_name": "Python 3",
      "language": "python",
      "name": "python3"
    },
    "language_info": {
      "codemirror_mode": {
        "name": "ipython",
        "version": 3
      },
      "file_extension": ".py",
      "mimetype": "text/x-python",
      "name": "python",
      "nbconvert_exporter": "python",
      "pygments_lexer": "ipython3",
      "version": "3.7.6"
    }
  },
  "cells": [
    {
      "cell_type": "markdown",
      "metadata": {
        "id": "view-in-github",
        "colab_type": "text"
      },
      "source": [
        "<a href=\"https://colab.research.google.com/github/hemantkashniyal/EVA4/blob/master/notebooks/Session8/Session_8.ipynb\" target=\"_parent\"><img src=\"https://colab.research.google.com/assets/colab-badge.svg\" alt=\"Open In Colab\"/></a>"
      ]
    },
    {
      "cell_type": "code",
      "metadata": {
        "colab_type": "code",
        "id": "PjZ1brB6K7ED",
        "outputId": "02b6ba35-2fb2-41a1-fca8-86b96075a5dc",
        "colab": {
          "base_uri": "https://localhost:8080/",
          "height": 255
        }
      },
      "source": [
        "!pwd\n",
        "\n",
        "import torch\n",
        "print(torch.cuda.is_available())\n",
        "\n",
        "! git clone https://github.com/hemantkashniyal/EVA4.git || true\n",
        "! git -C EVA4 pull\n",
        "! rm -rf eva4\n",
        "! cp -r /content/EVA4/notebooks/Session8/* ."
      ],
      "execution_count": 11,
      "outputs": [
        {
          "output_type": "stream",
          "text": [
            "/content\n",
            "True\n",
            "fatal: destination path 'EVA4' already exists and is not an empty directory.\n",
            "remote: Enumerating objects: 13, done.\u001b[K\n",
            "remote: Counting objects: 100% (13/13), done.\u001b[K\n",
            "remote: Compressing objects: 100% (1/1), done.\u001b[K\n",
            "remote: Total 7 (delta 5), reused 7 (delta 5), pack-reused 0\u001b[K\n",
            "Unpacking objects: 100% (7/7), done.\n",
            "From https://github.com/hemantkashniyal/EVA4\n",
            "   ea17180..7fa2878  master     -> origin/master\n",
            "Updating ea17180..7fa2878\n",
            "Fast-forward\n",
            " notebooks/Session8/eva4/training/training_manager.py | 2 \u001b[32m+\u001b[m\u001b[31m-\u001b[m\n",
            " 1 file changed, 1 insertion(+), 1 deletion(-)\n"
          ],
          "name": "stdout"
        }
      ]
    },
    {
      "cell_type": "code",
      "metadata": {
        "colab_type": "code",
        "id": "uWgBFzboK3T5",
        "outputId": "bbb544ed-32a3-46c4-87d6-10789586ac1d",
        "colab": {
          "base_uri": "https://localhost:8080/",
          "height": 496
        }
      },
      "source": [
        "%env PYTHONDONTWRITEBYTECODE=true\n",
        "! pip install -r requirements.txt\n",
        "    "
      ],
      "execution_count": 12,
      "outputs": [
        {
          "output_type": "stream",
          "text": [
            "env: PYTHONDONTWRITEBYTECODE=true\n",
            "Requirement already satisfied: torch in /usr/local/lib/python3.6/dist-packages (from -r requirements.txt (line 1)) (1.4.0)\n",
            "Requirement already satisfied: torchvision in /usr/local/lib/python3.6/dist-packages (from -r requirements.txt (line 2)) (0.5.0)\n",
            "Requirement already satisfied: environs in /usr/local/lib/python3.6/dist-packages (from -r requirements.txt (line 3)) (7.3.0)\n",
            "Requirement already satisfied: torchsummary in /usr/local/lib/python3.6/dist-packages (from -r requirements.txt (line 4)) (1.5.1)\n",
            "Requirement already satisfied: ImageAug in /usr/local/lib/python3.6/dist-packages (from -r requirements.txt (line 5)) (0.1.0.post0)\n",
            "Requirement already satisfied: tqdm in /usr/local/lib/python3.6/dist-packages (from -r requirements.txt (line 6)) (4.28.1)\n",
            "Requirement already satisfied: albumentations in /usr/local/lib/python3.6/dist-packages (from -r requirements.txt (line 7)) (0.1.12)\n",
            "Requirement already satisfied: six in /usr/local/lib/python3.6/dist-packages (from torchvision->-r requirements.txt (line 2)) (1.12.0)\n",
            "Requirement already satisfied: pillow>=4.1.1 in /usr/local/lib/python3.6/dist-packages (from torchvision->-r requirements.txt (line 2)) (6.2.2)\n",
            "Requirement already satisfied: numpy in /usr/local/lib/python3.6/dist-packages (from torchvision->-r requirements.txt (line 2)) (1.17.5)\n",
            "Requirement already satisfied: python-dotenv in /usr/local/lib/python3.6/dist-packages (from environs->-r requirements.txt (line 3)) (0.12.0)\n",
            "Requirement already satisfied: marshmallow>=2.7.0 in /usr/local/lib/python3.6/dist-packages (from environs->-r requirements.txt (line 3)) (3.5.1)\n",
            "Requirement already satisfied: imgaug<0.2.7,>=0.2.5 in /usr/local/lib/python3.6/dist-packages (from albumentations->-r requirements.txt (line 7)) (0.2.6)\n",
            "Requirement already satisfied: scipy in /usr/local/lib/python3.6/dist-packages (from albumentations->-r requirements.txt (line 7)) (1.4.1)\n",
            "Requirement already satisfied: opencv-python in /usr/local/lib/python3.6/dist-packages (from albumentations->-r requirements.txt (line 7)) (4.1.2.30)\n",
            "Requirement already satisfied: scikit-image>=0.11.0 in /usr/local/lib/python3.6/dist-packages (from imgaug<0.2.7,>=0.2.5->albumentations->-r requirements.txt (line 7)) (0.16.2)\n",
            "Requirement already satisfied: imageio>=2.3.0 in /usr/local/lib/python3.6/dist-packages (from scikit-image>=0.11.0->imgaug<0.2.7,>=0.2.5->albumentations->-r requirements.txt (line 7)) (2.4.1)\n",
            "Requirement already satisfied: matplotlib!=3.0.0,>=2.0.0 in /usr/local/lib/python3.6/dist-packages (from scikit-image>=0.11.0->imgaug<0.2.7,>=0.2.5->albumentations->-r requirements.txt (line 7)) (3.1.3)\n",
            "Requirement already satisfied: PyWavelets>=0.4.0 in /usr/local/lib/python3.6/dist-packages (from scikit-image>=0.11.0->imgaug<0.2.7,>=0.2.5->albumentations->-r requirements.txt (line 7)) (1.1.1)\n",
            "Requirement already satisfied: networkx>=2.0 in /usr/local/lib/python3.6/dist-packages (from scikit-image>=0.11.0->imgaug<0.2.7,>=0.2.5->albumentations->-r requirements.txt (line 7)) (2.4)\n",
            "Requirement already satisfied: cycler>=0.10 in /usr/local/lib/python3.6/dist-packages (from matplotlib!=3.0.0,>=2.0.0->scikit-image>=0.11.0->imgaug<0.2.7,>=0.2.5->albumentations->-r requirements.txt (line 7)) (0.10.0)\n",
            "Requirement already satisfied: pyparsing!=2.0.4,!=2.1.2,!=2.1.6,>=2.0.1 in /usr/local/lib/python3.6/dist-packages (from matplotlib!=3.0.0,>=2.0.0->scikit-image>=0.11.0->imgaug<0.2.7,>=0.2.5->albumentations->-r requirements.txt (line 7)) (2.4.6)\n",
            "Requirement already satisfied: kiwisolver>=1.0.1 in /usr/local/lib/python3.6/dist-packages (from matplotlib!=3.0.0,>=2.0.0->scikit-image>=0.11.0->imgaug<0.2.7,>=0.2.5->albumentations->-r requirements.txt (line 7)) (1.1.0)\n",
            "Requirement already satisfied: python-dateutil>=2.1 in /usr/local/lib/python3.6/dist-packages (from matplotlib!=3.0.0,>=2.0.0->scikit-image>=0.11.0->imgaug<0.2.7,>=0.2.5->albumentations->-r requirements.txt (line 7)) (2.6.1)\n",
            "Requirement already satisfied: decorator>=4.3.0 in /usr/local/lib/python3.6/dist-packages (from networkx>=2.0->scikit-image>=0.11.0->imgaug<0.2.7,>=0.2.5->albumentations->-r requirements.txt (line 7)) (4.4.1)\n",
            "Requirement already satisfied: setuptools in /usr/local/lib/python3.6/dist-packages (from kiwisolver>=1.0.1->matplotlib!=3.0.0,>=2.0.0->scikit-image>=0.11.0->imgaug<0.2.7,>=0.2.5->albumentations->-r requirements.txt (line 7)) (45.2.0)\n"
          ],
          "name": "stdout"
        }
      ]
    },
    {
      "cell_type": "code",
      "metadata": {
        "colab_type": "code",
        "id": "wv-Qb03GK3T-",
        "outputId": "0252ad7c-4eef-4755-fc72-e38f1d48eff8",
        "colab": {
          "base_uri": "https://localhost:8080/",
          "height": 969
        }
      },
      "source": [
        "%matplotlib inline\n",
        "\n",
        "import json\n",
        "from torchsummary import summary\n",
        "from environs import Env\n",
        "\n",
        "from torchvision import datasets, transforms\n",
        "from eva4.config.config import TrainingConfig\n",
        "env = Env()\n",
        "env.read_env(\"./cifar10.experiment.env.txt\", recurse=False)\n",
        "\n",
        "config = TrainingConfig()\n",
        "TrainingConfig.print(config)"
      ],
      "execution_count": 13,
      "outputs": [
        {
          "output_type": "stream",
          "text": [
            "Config:  {\n",
            "    \"cuda_available\": true,\n",
            "    \"device\": \"cuda\",\n",
            "    \"epochs\": 100,\n",
            "    \"desired_accuracy\": 80.0,\n",
            "    \"break_on_reaching_desired_accuracy\": true,\n",
            "    \"consecutive_desired_accuracy\": 3,\n",
            "    \"dataset\": {\n",
            "        \"type\": \"CIFAR10\",\n",
            "        \"dataset_root\": \"./data\",\n",
            "        \"batch_size\": 512,\n",
            "        \"shuffle\": true,\n",
            "        \"num_workers\": 4,\n",
            "        \"pin_memory\": true,\n",
            "        \"input_size\": [\n",
            "            3,\n",
            "            32,\n",
            "            32\n",
            "        ],\n",
            "        \"input_channel\": 3,\n",
            "        \"input_dimension\": [\n",
            "            32,\n",
            "            32\n",
            "        ],\n",
            "        \"dataset_std\": [\n",
            "            0.247,\n",
            "            0.2435,\n",
            "            0.2616\n",
            "        ],\n",
            "        \"dataset_mean\": [\n",
            "            0.4914,\n",
            "            0.4822,\n",
            "            0.4465\n",
            "        ]\n",
            "    },\n",
            "    \"scheduler\": {\n",
            "        \"type\": \"MultiStepLR\",\n",
            "        \"milestones\": [\n",
            "            10,\n",
            "            20,\n",
            "            35,\n",
            "            50\n",
            "        ],\n",
            "        \"gamma\": 0.1\n",
            "    },\n",
            "    \"optimizer\": {\n",
            "        \"type\": \"SGD\",\n",
            "        \"learning_rate\": 0.1,\n",
            "        \"momentum\": 0.9\n",
            "    },\n",
            "    \"network\": {\n",
            "        \"dropout\": 0.1,\n",
            "        \"bias_enabled\": true,\n",
            "        \"input_channel\": 3\n",
            "    }\n",
            "}\n"
          ],
          "name": "stdout"
        }
      ]
    },
    {
      "cell_type": "code",
      "metadata": {
        "colab_type": "code",
        "id": "FZwWkWQxK3UF",
        "colab": {}
      },
      "source": [
        "from imageaug.transforms import Colorspace, RandomAdjustment, RandomRotatedCrop\n",
        "\n",
        "input_size = config.dataset.input_size\n",
        "crop_size = config.dataset.input_dimension\n",
        "angle_std = 7 # in degrees\n",
        "\n",
        "dataset_std = config.dataset.dataset_std\n",
        "dataset_mean = config.dataset.dataset_mean\n",
        "\n",
        "# Define training transforms\n",
        "train_transforms = transforms.Compose([\n",
        "    transforms.RandomCrop(32, padding=4),\n",
        "    transforms.RandomHorizontalFlip(),\n",
        "    transforms.ToTensor(),\n",
        "    transforms.Normalize(dataset_mean, dataset_std),\n",
        "])\n",
        "train_transforms = None\n",
        "\n",
        "# Define test transforms\n",
        "test_transforms = transforms.Compose([\n",
        "    transforms.ToTensor(),\n",
        "    transforms.Normalize(dataset_mean, dataset_std),\n",
        "])\n",
        "test_transforms = None"
      ],
      "execution_count": 0,
      "outputs": []
    },
    {
      "cell_type": "code",
      "metadata": {
        "colab_type": "code",
        "id": "f3Pe7uKWK3UI",
        "outputId": "eb20038c-4378-48bf-ce7b-b5485367cdab",
        "colab": {
          "base_uri": "https://localhost:8080/",
          "height": 527
        }
      },
      "source": [
        "from eva4.dataset.dataset_manager import DatasetManager\n",
        "\n",
        "TrainingConfig.print(config.dataset)\n",
        "dataset = DatasetManager.get_dataset(config.dataset, train_transforms, test_transforms)\n"
      ],
      "execution_count": 15,
      "outputs": [
        {
          "output_type": "stream",
          "text": [
            "Config:  {\n",
            "    \"type\": \"CIFAR10\",\n",
            "    \"dataset_root\": \"./data\",\n",
            "    \"batch_size\": 512,\n",
            "    \"shuffle\": true,\n",
            "    \"num_workers\": 4,\n",
            "    \"pin_memory\": true,\n",
            "    \"input_size\": [\n",
            "        3,\n",
            "        32,\n",
            "        32\n",
            "    ],\n",
            "    \"input_channel\": 3,\n",
            "    \"input_dimension\": [\n",
            "        32,\n",
            "        32\n",
            "    ],\n",
            "    \"dataset_std\": [\n",
            "        0.247,\n",
            "        0.2435,\n",
            "        0.2616\n",
            "    ],\n",
            "    \"dataset_mean\": [\n",
            "        0.4914,\n",
            "        0.4822,\n",
            "        0.4465\n",
            "    ]\n",
            "}\n",
            "Files already downloaded and verified\n",
            "Files already downloaded and verified\n"
          ],
          "name": "stdout"
        }
      ]
    },
    {
      "cell_type": "code",
      "metadata": {
        "colab_type": "code",
        "id": "dUq_zXAmK3UL",
        "outputId": "e22bb5e1-5bd1-431a-d695-37fc7eb6d86c",
        "colab": {
          "base_uri": "https://localhost:8080/",
          "height": 1000
        }
      },
      "source": [
        "from eva4.network.network_manager import NetworkManager\n",
        "\n",
        "from eva4.network.cifar10.cifar10 import CIFAR10Net\n",
        "network = CIFAR10Net(config.network).to(config.device)\n",
        "\n",
        "TrainingConfig.print(config.network)\n",
        "NetworkManager.summarize(network, config.network, config.dataset)\n"
      ],
      "execution_count": 16,
      "outputs": [
        {
          "output_type": "stream",
          "text": [
            "Config:  {\n",
            "    \"dropout\": 0.1,\n",
            "    \"bias_enabled\": true,\n",
            "    \"input_channel\": 3\n",
            "}\n",
            "----------------------------------------------------------------\n",
            "        Layer (type)               Output Shape         Param #\n",
            "================================================================\n",
            "            Conv2d-1           [-1, 16, 32, 32]             432\n",
            "              ReLU-2           [-1, 16, 32, 32]               0\n",
            "       BatchNorm2d-3           [-1, 16, 32, 32]              32\n",
            "           Dropout-4           [-1, 16, 32, 32]               0\n",
            "     InternalBlock-5           [-1, 16, 32, 32]               0\n",
            "            Conv2d-6           [-1, 32, 32, 32]           4,608\n",
            "              ReLU-7           [-1, 32, 32, 32]               0\n",
            "       BatchNorm2d-8           [-1, 32, 32, 32]              64\n",
            "           Dropout-9           [-1, 32, 32, 32]               0\n",
            "    InternalBlock-10           [-1, 32, 32, 32]               0\n",
            "           Conv2d-11           [-1, 64, 30, 30]          18,432\n",
            "             ReLU-12           [-1, 64, 30, 30]               0\n",
            "      BatchNorm2d-13           [-1, 64, 30, 30]             128\n",
            "          Dropout-14           [-1, 64, 30, 30]               0\n",
            "    InternalBlock-15           [-1, 64, 30, 30]               0\n",
            "           Conv2d-16           [-1, 64, 28, 28]             576\n",
            "           Conv2d-17          [-1, 128, 30, 30]           8,192\n",
            "             ReLU-18          [-1, 128, 30, 30]               0\n",
            "      BatchNorm2d-19          [-1, 128, 30, 30]             256\n",
            "          Dropout-20          [-1, 128, 30, 30]               0\n",
            "DeepthSeparableBlock-21          [-1, 128, 30, 30]               0\n",
            "           Conv2d-22           [-1, 32, 32, 32]           4,096\n",
            "             ReLU-23           [-1, 32, 32, 32]               0\n",
            "      BatchNorm2d-24           [-1, 32, 32, 32]              64\n",
            "        MaxPool2d-25           [-1, 32, 16, 16]               0\n",
            "  TransitionBlock-26           [-1, 32, 16, 16]               0\n",
            "           Conv2d-27           [-1, 64, 16, 16]          18,432\n",
            "             ReLU-28           [-1, 64, 16, 16]               0\n",
            "      BatchNorm2d-29           [-1, 64, 16, 16]             128\n",
            "          Dropout-30           [-1, 64, 16, 16]               0\n",
            "    InternalBlock-31           [-1, 64, 16, 16]               0\n",
            "           Conv2d-32          [-1, 128, 16, 16]          73,728\n",
            "             ReLU-33          [-1, 128, 16, 16]               0\n",
            "      BatchNorm2d-34          [-1, 128, 16, 16]             256\n",
            "          Dropout-35          [-1, 128, 16, 16]               0\n",
            "    InternalBlock-36          [-1, 128, 16, 16]               0\n",
            "           Conv2d-37          [-1, 128, 16, 16]           1,152\n",
            "           Conv2d-38          [-1, 256, 18, 18]          32,768\n",
            "             ReLU-39          [-1, 256, 18, 18]               0\n",
            "      BatchNorm2d-40          [-1, 256, 18, 18]             512\n",
            "          Dropout-41          [-1, 256, 18, 18]               0\n",
            "DeepthSeparableBlock-42          [-1, 256, 18, 18]               0\n",
            "           Conv2d-43           [-1, 32, 20, 20]           8,192\n",
            "             ReLU-44           [-1, 32, 20, 20]               0\n",
            "      BatchNorm2d-45           [-1, 32, 20, 20]              64\n",
            "        MaxPool2d-46           [-1, 32, 10, 10]               0\n",
            "  TransitionBlock-47           [-1, 32, 10, 10]               0\n",
            "           Conv2d-48           [-1, 64, 10, 10]          18,432\n",
            "             ReLU-49           [-1, 64, 10, 10]               0\n",
            "      BatchNorm2d-50           [-1, 64, 10, 10]             128\n",
            "          Dropout-51           [-1, 64, 10, 10]               0\n",
            "    InternalBlock-52           [-1, 64, 10, 10]               0\n",
            "           Conv2d-53          [-1, 128, 10, 10]          73,728\n",
            "             ReLU-54          [-1, 128, 10, 10]               0\n",
            "      BatchNorm2d-55          [-1, 128, 10, 10]             256\n",
            "          Dropout-56          [-1, 128, 10, 10]               0\n",
            "    InternalBlock-57          [-1, 128, 10, 10]               0\n",
            "           Conv2d-58           [-1, 32, 12, 12]           4,096\n",
            "             ReLU-59           [-1, 32, 12, 12]               0\n",
            "      BatchNorm2d-60           [-1, 32, 12, 12]              64\n",
            "        MaxPool2d-61             [-1, 32, 6, 6]               0\n",
            "  TransitionBlock-62             [-1, 32, 6, 6]               0\n",
            "        AvgPool2d-63             [-1, 32, 1, 1]               0\n",
            "         GAPBlock-64             [-1, 32, 1, 1]               0\n",
            "           Conv2d-65             [-1, 10, 1, 1]             320\n",
            "================================================================\n",
            "Total params: 269,136\n",
            "Trainable params: 269,136\n",
            "Non-trainable params: 0\n",
            "----------------------------------------------------------------\n",
            "Input size (MB): 0.01\n",
            "Forward/backward pass size (MB): 16.21\n",
            "Params size (MB): 1.03\n",
            "Estimated Total Size (MB): 17.25\n",
            "----------------------------------------------------------------\n"
          ],
          "name": "stdout"
        },
        {
          "output_type": "stream",
          "text": [
            "/content/eva4/network/cifar10/cifar10.py:66: UserWarning: Implicit dimension choice for log_softmax has been deprecated. Change the call to include dim=X as an argument.\n",
            "  return F.log_softmax(x)\n"
          ],
          "name": "stderr"
        }
      ]
    },
    {
      "cell_type": "code",
      "metadata": {
        "colab_type": "code",
        "id": "RU1ZasFp0U9Z",
        "outputId": "f75f9a42-1bc9-4bad-d880-b2ca0cb2d827",
        "colab": {
          "base_uri": "https://localhost:8080/",
          "height": 102
        }
      },
      "source": [
        "from eva4.optimizer.optimizer_manager import OptimizerManager\n",
        "TrainingConfig.print(config.optimizer)\n",
        "optimizer = OptimizerManager.get_optimizer(network, config.optimizer)\n"
      ],
      "execution_count": 17,
      "outputs": [
        {
          "output_type": "stream",
          "text": [
            "Config:  {\n",
            "    \"type\": \"SGD\",\n",
            "    \"learning_rate\": 0.1,\n",
            "    \"momentum\": 0.9\n",
            "}\n"
          ],
          "name": "stdout"
        }
      ]
    },
    {
      "cell_type": "code",
      "metadata": {
        "id": "jKkyD7UCDpqk",
        "colab_type": "code",
        "outputId": "9a947d34-e967-4236-e538-afe90283f1c2",
        "colab": {
          "base_uri": "https://localhost:8080/",
          "height": 187
        }
      },
      "source": [
        "from eva4.scheduler.scheduler_manager import SchedulerManager\n",
        "TrainingConfig.print(config.scheduler)\n",
        "scheduler = SchedulerManager.get_scheduler(optimizer, config.scheduler)\n"
      ],
      "execution_count": 18,
      "outputs": [
        {
          "output_type": "stream",
          "text": [
            "Config:  {\n",
            "    \"type\": \"MultiStepLR\",\n",
            "    \"milestones\": [\n",
            "        10,\n",
            "        20,\n",
            "        35,\n",
            "        50\n",
            "    ],\n",
            "    \"gamma\": 0.1\n",
            "}\n"
          ],
          "name": "stdout"
        }
      ]
    },
    {
      "cell_type": "code",
      "metadata": {
        "id": "o6Dy9PjMJLat",
        "colab_type": "code",
        "outputId": "ed9d7e3f-1031-4e7a-f1cc-c177300b90b0",
        "colab": {
          "base_uri": "https://localhost:8080/",
          "height": 34
        }
      },
      "source": [
        "import torch.nn.functional as F\n",
        "loss = F.nll_loss\n",
        "\n",
        "import torch.nn as nn\n",
        "nn.CrossEntropyLoss"
      ],
      "execution_count": 19,
      "outputs": [
        {
          "output_type": "execute_result",
          "data": {
            "text/plain": [
              "torch.nn.modules.loss.CrossEntropyLoss"
            ]
          },
          "metadata": {
            "tags": []
          },
          "execution_count": 19
        }
      ]
    },
    {
      "cell_type": "code",
      "metadata": {
        "id": "L-BFmiK0F1Yb",
        "colab_type": "code",
        "outputId": "9ea5726f-c7e8-4f69-9aeb-c0a9cb831559",
        "colab": {
          "base_uri": "https://localhost:8080/",
          "height": 1000
        }
      },
      "source": [
        "from eva4.training.training_manager import TrainingManager\n",
        "training = TrainingManager(config, dataset, network, loss, scheduler, optimizer)\n",
        "training.start()\n",
        "training.summarize()\n"
      ],
      "execution_count": 20,
      "outputs": [
        {
          "output_type": "stream",
          "text": [
            "\r  0%|          | 0/98 [00:00<?, ?it/s]"
          ],
          "name": "stderr"
        },
        {
          "output_type": "stream",
          "text": [
            "EPOCH: 0\n"
          ],
          "name": "stdout"
        },
        {
          "output_type": "stream",
          "text": [
            "/content/eva4/network/cifar10/cifar10.py:66: UserWarning: Implicit dimension choice for log_softmax has been deprecated. Change the call to include dim=X as an argument.\n",
            "  return F.log_softmax(x)\n",
            "Loss=1.3260815143585205 Batch_id=97 Accuracy=40.04: 100%|██████████| 98/98 [00:18<00:00,  5.93it/s]\n",
            "  0%|          | 0/98 [00:00<?, ?it/s]"
          ],
          "name": "stderr"
        },
        {
          "output_type": "stream",
          "text": [
            "\n",
            "Test set: Average loss: 1.4650, Accuracy: 23104/50000 (46.21%)\n",
            "\n",
            "EPOCH: 1\n"
          ],
          "name": "stdout"
        },
        {
          "output_type": "stream",
          "text": [
            "Loss=1.099462866783142 Batch_id=97 Accuracy=58.54: 100%|██████████| 98/98 [00:18<00:00,  5.85it/s]\n",
            "  0%|          | 0/98 [00:00<?, ?it/s]"
          ],
          "name": "stderr"
        },
        {
          "output_type": "stream",
          "text": [
            "\n",
            "Test set: Average loss: 1.2829, Accuracy: 27556/50000 (55.11%)\n",
            "\n",
            "EPOCH: 2\n"
          ],
          "name": "stdout"
        },
        {
          "output_type": "stream",
          "text": [
            "Loss=0.8922934532165527 Batch_id=97 Accuracy=66.08: 100%|██████████| 98/98 [00:18<00:00,  5.92it/s]\n",
            "  0%|          | 0/98 [00:00<?, ?it/s]"
          ],
          "name": "stderr"
        },
        {
          "output_type": "stream",
          "text": [
            "\n",
            "Test set: Average loss: 0.8811, Accuracy: 34201/50000 (68.40%)\n",
            "\n",
            "EPOCH: 3\n"
          ],
          "name": "stdout"
        },
        {
          "output_type": "stream",
          "text": [
            "Loss=0.797603964805603 Batch_id=97 Accuracy=71.01: 100%|██████████| 98/98 [00:19<00:00,  5.92it/s]\n",
            "  0%|          | 0/98 [00:00<?, ?it/s]"
          ],
          "name": "stderr"
        },
        {
          "output_type": "stream",
          "text": [
            "\n",
            "Test set: Average loss: 0.7370, Accuracy: 37136/50000 (74.27%)\n",
            "\n",
            "EPOCH: 4\n"
          ],
          "name": "stdout"
        },
        {
          "output_type": "stream",
          "text": [
            "Loss=0.7592656016349792 Batch_id=97 Accuracy=74.61: 100%|██████████| 98/98 [00:18<00:00,  5.91it/s]\n",
            "  0%|          | 0/98 [00:00<?, ?it/s]"
          ],
          "name": "stderr"
        },
        {
          "output_type": "stream",
          "text": [
            "\n",
            "Test set: Average loss: 0.7492, Accuracy: 36926/50000 (73.85%)\n",
            "\n",
            "EPOCH: 5\n"
          ],
          "name": "stdout"
        },
        {
          "output_type": "stream",
          "text": [
            "Loss=0.7340247631072998 Batch_id=97 Accuracy=76.89: 100%|██████████| 98/98 [00:18<00:00,  5.91it/s]\n",
            "  0%|          | 0/98 [00:00<?, ?it/s]"
          ],
          "name": "stderr"
        },
        {
          "output_type": "stream",
          "text": [
            "\n",
            "Test set: Average loss: 0.6273, Accuracy: 39019/50000 (78.04%)\n",
            "\n",
            "EPOCH: 6\n"
          ],
          "name": "stdout"
        },
        {
          "output_type": "stream",
          "text": [
            "Loss=0.5379575490951538 Batch_id=97 Accuracy=78.77: 100%|██████████| 98/98 [00:18<00:00,  5.92it/s]\n",
            "  0%|          | 0/98 [00:00<?, ?it/s]"
          ],
          "name": "stderr"
        },
        {
          "output_type": "stream",
          "text": [
            "\n",
            "Test set: Average loss: 0.6056, Accuracy: 39068/50000 (78.14%)\n",
            "\n",
            "EPOCH: 7\n"
          ],
          "name": "stdout"
        },
        {
          "output_type": "stream",
          "text": [
            "Loss=0.5604822635650635 Batch_id=97 Accuracy=80.27: 100%|██████████| 98/98 [00:18<00:00,  5.89it/s]\n",
            "  0%|          | 0/98 [00:00<?, ?it/s]"
          ],
          "name": "stderr"
        },
        {
          "output_type": "stream",
          "text": [
            "\n",
            "Test set: Average loss: 0.5237, Accuracy: 40702/50000 (81.40%)\n",
            "\n",
            "EPOCH: 8\n"
          ],
          "name": "stdout"
        },
        {
          "output_type": "stream",
          "text": [
            "Loss=0.6167202591896057 Batch_id=97 Accuracy=81.31: 100%|██████████| 98/98 [00:19<00:00,  5.91it/s]\n",
            "  0%|          | 0/98 [00:00<?, ?it/s]"
          ],
          "name": "stderr"
        },
        {
          "output_type": "stream",
          "text": [
            "\n",
            "Test set: Average loss: 0.4483, Accuracy: 42175/50000 (84.35%)\n",
            "\n",
            "EPOCH: 9\n"
          ],
          "name": "stdout"
        },
        {
          "output_type": "stream",
          "text": [
            "Loss=0.4270199239253998 Batch_id=97 Accuracy=82.39: 100%|██████████| 98/98 [00:18<00:00,  5.94it/s]\n"
          ],
          "name": "stderr"
        },
        {
          "output_type": "stream",
          "text": [
            "\n",
            "Test set: Average loss: 0.5022, Accuracy: 41261/50000 (82.52%)\n",
            "\n"
          ],
          "name": "stdout"
        },
        {
          "output_type": "display_data",
          "data": {
            "image/png": "[encoded data removed]",
            "text/plain": [
              "<Figure size 1080x720 with 4 Axes>"
            ]
          },
          "metadata": {
            "tags": []
          }
        }
      ]
    },
    {
      "cell_type": "code",
      "metadata": {
        "id": "9lQTaEz3GDy5",
        "colab_type": "code",
        "colab": {}
      },
      "source": [
        ""
      ],
      "execution_count": 0,
      "outputs": []
    }
  ]
}