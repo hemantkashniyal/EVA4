{
  "nbformat": 4,
  "nbformat_minor": 0,
  "metadata": {
    "accelerator": "GPU",
    "colab": {
      "name": "Session_8.ipynb",
      "provenance": [],
      "collapsed_sections": [],
      "include_colab_link": true
    },
    "kernelspec": {
      "display_name": "Python 3",
      "language": "python",
      "name": "python3"
    },
    "language_info": {
      "codemirror_mode": {
        "name": "ipython",
        "version": 3
      },
      "file_extension": ".py",
      "mimetype": "text/x-python",
      "name": "python",
      "nbconvert_exporter": "python",
      "pygments_lexer": "ipython3",
      "version": "3.7.6"
    }
  },
  "cells": [
    {
      "cell_type": "markdown",
      "metadata": {
        "id": "view-in-github",
        "colab_type": "text"
      },
      "source": [
        "<a href=\"https://colab.research.google.com/github/hemantkashniyal/EVA4/blob/master/notebooks/Session8/Session_8.ipynb\" target=\"_parent\"><img src=\"https://colab.research.google.com/assets/colab-badge.svg\" alt=\"Open In Colab\"/></a>"
      ]
    },
    {
      "cell_type": "code",
      "metadata": {
        "colab_type": "code",
        "id": "PjZ1brB6K7ED",
        "outputId": "b4759903-07df-4eba-b315-9d520339f093",
        "colab": {
          "base_uri": "https://localhost:8080/",
          "height": 85
        }
      },
      "source": [
        "!pwd\n",
        "\n",
        "import torch\n",
        "print(torch.cuda.is_available())\n",
        "\n",
        "! git clone https://github.com/hemantkashniyal/EVA4.git || true\n",
        "! git -C EVA4 pull\n",
        "! rm -rf eva4\n",
        "! cp -r /content/EVA4/notebooks/Session8/* ."
      ],
      "execution_count": 1,
      "outputs": [
        {
          "output_type": "stream",
          "text": [
            "/content\n",
            "True\n",
            "fatal: destination path 'EVA4' already exists and is not an empty directory.\n",
            "Already up to date.\n"
          ],
          "name": "stdout"
        }
      ]
    },
    {
      "cell_type": "code",
      "metadata": {
        "colab_type": "code",
        "id": "uWgBFzboK3T5",
        "outputId": "a278d92b-2c1c-4def-d97b-059f5b5cd141",
        "colab": {
          "base_uri": "https://localhost:8080/",
          "height": 496
        }
      },
      "source": [
        "%env PYTHONDONTWRITEBYTECODE=true\n",
        "! pip install -r requirements.txt\n",
        "    "
      ],
      "execution_count": 2,
      "outputs": [
        {
          "output_type": "stream",
          "text": [
            "env: PYTHONDONTWRITEBYTECODE=true\n",
            "Requirement already satisfied: torch in /usr/local/lib/python3.6/dist-packages (from -r requirements.txt (line 1)) (1.4.0)\n",
            "Requirement already satisfied: torchvision in /usr/local/lib/python3.6/dist-packages (from -r requirements.txt (line 2)) (0.5.0)\n",
            "Requirement already satisfied: environs in /usr/local/lib/python3.6/dist-packages (from -r requirements.txt (line 3)) (7.3.0)\n",
            "Requirement already satisfied: torchsummary in /usr/local/lib/python3.6/dist-packages (from -r requirements.txt (line 4)) (1.5.1)\n",
            "Requirement already satisfied: ImageAug in /usr/local/lib/python3.6/dist-packages (from -r requirements.txt (line 5)) (0.1.0.post0)\n",
            "Requirement already satisfied: tqdm in /usr/local/lib/python3.6/dist-packages (from -r requirements.txt (line 6)) (4.28.1)\n",
            "Requirement already satisfied: albumentations in /usr/local/lib/python3.6/dist-packages (from -r requirements.txt (line 7)) (0.1.12)\n",
            "Requirement already satisfied: pillow>=4.1.1 in /usr/local/lib/python3.6/dist-packages (from torchvision->-r requirements.txt (line 2)) (6.2.2)\n",
            "Requirement already satisfied: numpy in /usr/local/lib/python3.6/dist-packages (from torchvision->-r requirements.txt (line 2)) (1.17.5)\n",
            "Requirement already satisfied: six in /usr/local/lib/python3.6/dist-packages (from torchvision->-r requirements.txt (line 2)) (1.12.0)\n",
            "Requirement already satisfied: marshmallow>=2.7.0 in /usr/local/lib/python3.6/dist-packages (from environs->-r requirements.txt (line 3)) (3.5.1)\n",
            "Requirement already satisfied: python-dotenv in /usr/local/lib/python3.6/dist-packages (from environs->-r requirements.txt (line 3)) (0.12.0)\n",
            "Requirement already satisfied: opencv-python in /usr/local/lib/python3.6/dist-packages (from albumentations->-r requirements.txt (line 7)) (4.1.2.30)\n",
            "Requirement already satisfied: scipy in /usr/local/lib/python3.6/dist-packages (from albumentations->-r requirements.txt (line 7)) (1.4.1)\n",
            "Requirement already satisfied: imgaug<0.2.7,>=0.2.5 in /usr/local/lib/python3.6/dist-packages (from albumentations->-r requirements.txt (line 7)) (0.2.6)\n",
            "Requirement already satisfied: scikit-image>=0.11.0 in /usr/local/lib/python3.6/dist-packages (from imgaug<0.2.7,>=0.2.5->albumentations->-r requirements.txt (line 7)) (0.16.2)\n",
            "Requirement already satisfied: PyWavelets>=0.4.0 in /usr/local/lib/python3.6/dist-packages (from scikit-image>=0.11.0->imgaug<0.2.7,>=0.2.5->albumentations->-r requirements.txt (line 7)) (1.1.1)\n",
            "Requirement already satisfied: networkx>=2.0 in /usr/local/lib/python3.6/dist-packages (from scikit-image>=0.11.0->imgaug<0.2.7,>=0.2.5->albumentations->-r requirements.txt (line 7)) (2.4)\n",
            "Requirement already satisfied: imageio>=2.3.0 in /usr/local/lib/python3.6/dist-packages (from scikit-image>=0.11.0->imgaug<0.2.7,>=0.2.5->albumentations->-r requirements.txt (line 7)) (2.4.1)\n",
            "Requirement already satisfied: matplotlib!=3.0.0,>=2.0.0 in /usr/local/lib/python3.6/dist-packages (from scikit-image>=0.11.0->imgaug<0.2.7,>=0.2.5->albumentations->-r requirements.txt (line 7)) (3.1.3)\n",
            "Requirement already satisfied: decorator>=4.3.0 in /usr/local/lib/python3.6/dist-packages (from networkx>=2.0->scikit-image>=0.11.0->imgaug<0.2.7,>=0.2.5->albumentations->-r requirements.txt (line 7)) (4.4.1)\n",
            "Requirement already satisfied: kiwisolver>=1.0.1 in /usr/local/lib/python3.6/dist-packages (from matplotlib!=3.0.0,>=2.0.0->scikit-image>=0.11.0->imgaug<0.2.7,>=0.2.5->albumentations->-r requirements.txt (line 7)) (1.1.0)\n",
            "Requirement already satisfied: pyparsing!=2.0.4,!=2.1.2,!=2.1.6,>=2.0.1 in /usr/local/lib/python3.6/dist-packages (from matplotlib!=3.0.0,>=2.0.0->scikit-image>=0.11.0->imgaug<0.2.7,>=0.2.5->albumentations->-r requirements.txt (line 7)) (2.4.6)\n",
            "Requirement already satisfied: cycler>=0.10 in /usr/local/lib/python3.6/dist-packages (from matplotlib!=3.0.0,>=2.0.0->scikit-image>=0.11.0->imgaug<0.2.7,>=0.2.5->albumentations->-r requirements.txt (line 7)) (0.10.0)\n",
            "Requirement already satisfied: python-dateutil>=2.1 in /usr/local/lib/python3.6/dist-packages (from matplotlib!=3.0.0,>=2.0.0->scikit-image>=0.11.0->imgaug<0.2.7,>=0.2.5->albumentations->-r requirements.txt (line 7)) (2.6.1)\n",
            "Requirement already satisfied: setuptools in /usr/local/lib/python3.6/dist-packages (from kiwisolver>=1.0.1->matplotlib!=3.0.0,>=2.0.0->scikit-image>=0.11.0->imgaug<0.2.7,>=0.2.5->albumentations->-r requirements.txt (line 7)) (45.2.0)\n"
          ],
          "name": "stdout"
        }
      ]
    },
    {
      "cell_type": "code",
      "metadata": {
        "colab_type": "code",
        "id": "wv-Qb03GK3T-",
        "outputId": "63552b66-7bb4-4364-c6f9-518a9c217d82",
        "colab": {
          "base_uri": "https://localhost:8080/",
          "height": 969
        }
      },
      "source": [
        "%matplotlib inline\n",
        "\n",
        "import json\n",
        "from torchsummary import summary\n",
        "from environs import Env\n",
        "\n",
        "from torchvision import datasets, transforms\n",
        "from eva4.config.config import TrainingConfig\n",
        "env = Env()\n",
        "env.read_env(\"./cifar10.experiment.env.txt\", recurse=False)\n",
        "\n",
        "config = TrainingConfig()\n",
        "print(\"Experiment Config: \", json.dumps(config, default=lambda x: x.__dict__, sort_keys=False, indent=4))"
      ],
      "execution_count": 3,
      "outputs": [
        {
          "output_type": "stream",
          "text": [
            "Experiment Config:  {\n",
            "    \"cuda_available\": true,\n",
            "    \"device\": \"cuda\",\n",
            "    \"epochs\": 100,\n",
            "    \"desired_accuracy\": 80.0,\n",
            "    \"break_on_reaching_desired_accuracy\": true,\n",
            "    \"consecutive_desired_accuracy\": 3,\n",
            "    \"dataset\": {\n",
            "        \"type\": \"CIFAR10\",\n",
            "        \"dataset_root\": \"./data\",\n",
            "        \"batch_size\": 512,\n",
            "        \"shuffle\": true,\n",
            "        \"num_workers\": 4,\n",
            "        \"pin_memory\": true,\n",
            "        \"input_size\": [\n",
            "            3,\n",
            "            32,\n",
            "            32\n",
            "        ],\n",
            "        \"input_channel\": 3,\n",
            "        \"input_dimension\": [\n",
            "            32,\n",
            "            32\n",
            "        ],\n",
            "        \"dataset_std\": [\n",
            "            0.247,\n",
            "            0.2435,\n",
            "            0.2616\n",
            "        ],\n",
            "        \"dataset_mean\": [\n",
            "            0.4914,\n",
            "            0.4822,\n",
            "            0.4465\n",
            "        ]\n",
            "    },\n",
            "    \"scheduler\": {\n",
            "        \"type\": \"MultiStepLR\",\n",
            "        \"milestones\": [\n",
            "            10,\n",
            "            20,\n",
            "            35,\n",
            "            50\n",
            "        ],\n",
            "        \"gamma\": 0.1\n",
            "    },\n",
            "    \"optimizer\": {\n",
            "        \"type\": \"SGD\",\n",
            "        \"learning_rate\": 0.1,\n",
            "        \"momentum\": 0.9\n",
            "    },\n",
            "    \"network\": {\n",
            "        \"dropout\": 0.1,\n",
            "        \"bias_enabled\": true,\n",
            "        \"input_channel\": 3\n",
            "    }\n",
            "}\n"
          ],
          "name": "stdout"
        }
      ]
    },
    {
      "cell_type": "code",
      "metadata": {
        "colab_type": "code",
        "id": "FZwWkWQxK3UF",
        "colab": {}
      },
      "source": [
        "from imageaug.transforms import Colorspace, RandomAdjustment, RandomRotatedCrop\n",
        "\n",
        "input_size = config.dataset.input_size\n",
        "crop_size = config.dataset.input_dimension\n",
        "angle_std = 7 # in degrees\n",
        "\n",
        "dataset_std = config.dataset.dataset_std\n",
        "dataset_mean = config.dataset.dataset_mean\n",
        "\n",
        "# Define training transforms\n",
        "train_transforms = transforms.Compose([\n",
        "    transforms.RandomCrop(32, padding=4),\n",
        "    transforms.RandomHorizontalFlip(),\n",
        "    transforms.ToTensor(),\n",
        "    transforms.Normalize(dataset_mean, dataset_std),\n",
        "])\n",
        "train_transforms = None\n",
        "\n",
        "# Define test transforms\n",
        "test_transforms = transforms.Compose([\n",
        "    transforms.ToTensor(),\n",
        "    transforms.Normalize(dataset_mean, dataset_std),\n",
        "])\n",
        "test_transforms = None"
      ],
      "execution_count": 0,
      "outputs": []
    },
    {
      "cell_type": "code",
      "metadata": {
        "colab_type": "code",
        "id": "f3Pe7uKWK3UI",
        "outputId": "bd50c4a9-c397-45cd-d2b4-e50e6461d6a2",
        "colab": {
          "base_uri": "https://localhost:8080/",
          "height": 51
        }
      },
      "source": [
        "from eva4.dataset.dataset_manager import DatasetManager\n",
        "\n",
        "dataset = DatasetManager.get_dataset(config.dataset, train_transforms, test_transforms)\n"
      ],
      "execution_count": 5,
      "outputs": [
        {
          "output_type": "stream",
          "text": [
            "Files already downloaded and verified\n",
            "Files already downloaded and verified\n"
          ],
          "name": "stdout"
        }
      ]
    },
    {
      "cell_type": "code",
      "metadata": {
        "colab_type": "code",
        "id": "dUq_zXAmK3UL",
        "colab": {
          "base_uri": "https://localhost:8080/",
          "height": 1000
        },
        "outputId": "dd40b8f4-987b-4d15-c96c-08af7d35cd7d"
      },
      "source": [
        "from eva4.network.network_manager import NetworkManager\n",
        "\n",
        "from eva4.network.cifar10.cifar10 import CIFAR10Net\n",
        "network = CIFAR10Net(config.network).to(config.device)\n",
        "\n",
        "NetworkManager.summarize(network, config.network, config.dataset)\n"
      ],
      "execution_count": 6,
      "outputs": [
        {
          "output_type": "stream",
          "text": [
            "----------------------------------------------------------------\n",
            "        Layer (type)               Output Shape         Param #\n",
            "================================================================\n",
            "            Conv2d-1           [-1, 16, 32, 32]             432\n",
            "              ReLU-2           [-1, 16, 32, 32]               0\n",
            "       BatchNorm2d-3           [-1, 16, 32, 32]              32\n",
            "           Dropout-4           [-1, 16, 32, 32]               0\n",
            "     InternalBlock-5           [-1, 16, 32, 32]               0\n",
            "            Conv2d-6           [-1, 32, 32, 32]           4,608\n",
            "              ReLU-7           [-1, 32, 32, 32]               0\n",
            "       BatchNorm2d-8           [-1, 32, 32, 32]              64\n",
            "           Dropout-9           [-1, 32, 32, 32]               0\n",
            "    InternalBlock-10           [-1, 32, 32, 32]               0\n",
            "           Conv2d-11           [-1, 64, 30, 30]          18,432\n",
            "             ReLU-12           [-1, 64, 30, 30]               0\n",
            "      BatchNorm2d-13           [-1, 64, 30, 30]             128\n",
            "          Dropout-14           [-1, 64, 30, 30]               0\n",
            "    InternalBlock-15           [-1, 64, 30, 30]               0\n",
            "           Conv2d-16           [-1, 64, 28, 28]             576\n",
            "           Conv2d-17          [-1, 128, 30, 30]           8,192\n",
            "             ReLU-18          [-1, 128, 30, 30]               0\n",
            "      BatchNorm2d-19          [-1, 128, 30, 30]             256\n",
            "          Dropout-20          [-1, 128, 30, 30]               0\n",
            "DeepthSeparableBlock-21          [-1, 128, 30, 30]               0\n",
            "           Conv2d-22           [-1, 32, 32, 32]           4,096\n",
            "             ReLU-23           [-1, 32, 32, 32]               0\n",
            "      BatchNorm2d-24           [-1, 32, 32, 32]              64\n",
            "        MaxPool2d-25           [-1, 32, 16, 16]               0\n",
            "  TransitionBlock-26           [-1, 32, 16, 16]               0\n",
            "           Conv2d-27           [-1, 64, 16, 16]          18,432\n",
            "             ReLU-28           [-1, 64, 16, 16]               0\n",
            "      BatchNorm2d-29           [-1, 64, 16, 16]             128\n",
            "          Dropout-30           [-1, 64, 16, 16]               0\n",
            "    InternalBlock-31           [-1, 64, 16, 16]               0\n",
            "           Conv2d-32          [-1, 128, 16, 16]          73,728\n",
            "             ReLU-33          [-1, 128, 16, 16]               0\n",
            "      BatchNorm2d-34          [-1, 128, 16, 16]             256\n",
            "          Dropout-35          [-1, 128, 16, 16]               0\n",
            "    InternalBlock-36          [-1, 128, 16, 16]               0\n",
            "           Conv2d-37          [-1, 128, 16, 16]           1,152\n",
            "           Conv2d-38          [-1, 256, 18, 18]          32,768\n",
            "             ReLU-39          [-1, 256, 18, 18]               0\n",
            "      BatchNorm2d-40          [-1, 256, 18, 18]             512\n",
            "          Dropout-41          [-1, 256, 18, 18]               0\n",
            "DeepthSeparableBlock-42          [-1, 256, 18, 18]               0\n",
            "           Conv2d-43           [-1, 32, 20, 20]           8,192\n",
            "             ReLU-44           [-1, 32, 20, 20]               0\n",
            "      BatchNorm2d-45           [-1, 32, 20, 20]              64\n",
            "        MaxPool2d-46           [-1, 32, 10, 10]               0\n",
            "  TransitionBlock-47           [-1, 32, 10, 10]               0\n",
            "           Conv2d-48           [-1, 64, 10, 10]          18,432\n",
            "             ReLU-49           [-1, 64, 10, 10]               0\n",
            "      BatchNorm2d-50           [-1, 64, 10, 10]             128\n",
            "          Dropout-51           [-1, 64, 10, 10]               0\n",
            "    InternalBlock-52           [-1, 64, 10, 10]               0\n",
            "           Conv2d-53          [-1, 128, 10, 10]          73,728\n",
            "             ReLU-54          [-1, 128, 10, 10]               0\n",
            "      BatchNorm2d-55          [-1, 128, 10, 10]             256\n",
            "          Dropout-56          [-1, 128, 10, 10]               0\n",
            "    InternalBlock-57          [-1, 128, 10, 10]               0\n",
            "           Conv2d-58           [-1, 32, 12, 12]           4,096\n",
            "             ReLU-59           [-1, 32, 12, 12]               0\n",
            "      BatchNorm2d-60           [-1, 32, 12, 12]              64\n",
            "        MaxPool2d-61             [-1, 32, 6, 6]               0\n",
            "  TransitionBlock-62             [-1, 32, 6, 6]               0\n",
            "        AvgPool2d-63             [-1, 32, 1, 1]               0\n",
            "         GAPBlock-64             [-1, 32, 1, 1]               0\n",
            "           Conv2d-65             [-1, 10, 1, 1]             320\n",
            "================================================================\n",
            "Total params: 269,136\n",
            "Trainable params: 269,136\n",
            "Non-trainable params: 0\n",
            "----------------------------------------------------------------\n",
            "Input size (MB): 0.01\n",
            "Forward/backward pass size (MB): 16.21\n",
            "Params size (MB): 1.03\n",
            "Estimated Total Size (MB): 17.25\n",
            "----------------------------------------------------------------\n"
          ],
          "name": "stdout"
        },
        {
          "output_type": "stream",
          "text": [
            "/content/eva4/network/cifar10/cifar10.py:66: UserWarning: Implicit dimension choice for log_softmax has been deprecated. Change the call to include dim=X as an argument.\n",
            "  return F.log_softmax(x)\n"
          ],
          "name": "stderr"
        }
      ]
    },
    {
      "cell_type": "code",
      "metadata": {
        "colab_type": "code",
        "id": "RU1ZasFp0U9Z",
        "colab": {}
      },
      "source": [
        "from eva4.optimizer.optimizer_manager import OptimizerManager\n",
        "optimizer = OptimizerManager.get_optimizer(network, config.optimizer)\n"
      ],
      "execution_count": 0,
      "outputs": []
    },
    {
      "cell_type": "code",
      "metadata": {
        "id": "jKkyD7UCDpqk",
        "colab_type": "code",
        "colab": {}
      },
      "source": [
        "from eva4.scheduler.scheduler_manager import SchedulerManager\n",
        "scheduler = SchedulerManager.get_scheduler(optimizer, config.scheduler)\n"
      ],
      "execution_count": 0,
      "outputs": []
    },
    {
      "cell_type": "code",
      "metadata": {
        "id": "o6Dy9PjMJLat",
        "colab_type": "code",
        "colab": {}
      },
      "source": [
        "import torch.nn.functional as F\n",
        "loss = F.nll_loss"
      ],
      "execution_count": 0,
      "outputs": []
    },
    {
      "cell_type": "code",
      "metadata": {
        "id": "L-BFmiK0F1Yb",
        "colab_type": "code",
        "colab": {
          "base_uri": "https://localhost:8080/",
          "height": 105
        },
        "outputId": "5ef4934d-7704-42ca-b3ea-bc0883287f54"
      },
      "source": [
        "from eva4.training.training_manager import TrainingManager\n",
        "training = TrainingManager(config, dataset, network, loss, scheduler, optimizer)\n",
        "training.start()\n",
        "training.summarize()\n"
      ],
      "execution_count": 0,
      "outputs": [
        {
          "output_type": "stream",
          "text": [
            "\r  0%|          | 0/98 [00:00<?, ?it/s]"
          ],
          "name": "stderr"
        },
        {
          "output_type": "stream",
          "text": [
            "EPOCH: 0\n"
          ],
          "name": "stdout"
        },
        {
          "output_type": "stream",
          "text": [
            "/content/eva4/network/cifar10/cifar10.py:66: UserWarning: Implicit dimension choice for log_softmax has been deprecated. Change the call to include dim=X as an argument.\n",
            "  return F.log_softmax(x)\n",
            "Loss=1.3725709915161133 Batch_id=97 Accuracy=40.10: 100%|██████████| 98/98 [00:18<00:00,  5.94it/s]\n"
          ],
          "name": "stderr"
        }
      ]
    },
    {
      "cell_type": "code",
      "metadata": {
        "id": "9lQTaEz3GDy5",
        "colab_type": "code",
        "colab": {}
      },
      "source": [
        ""
      ],
      "execution_count": 0,
      "outputs": []
    }
  ]
}