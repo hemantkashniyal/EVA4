{
  "nbformat": 4,
  "nbformat_minor": 0,
  "metadata": {
    "accelerator": "GPU",
    "colab": {
      "name": "Session_8.ipynb",
      "provenance": [],
      "collapsed_sections": [],
      "include_colab_link": true
    },
    "kernelspec": {
      "display_name": "Python 3",
      "language": "python",
      "name": "python3"
    },
    "language_info": {
      "codemirror_mode": {
        "name": "ipython",
        "version": 3
      },
      "file_extension": ".py",
      "mimetype": "text/x-python",
      "name": "python",
      "nbconvert_exporter": "python",
      "pygments_lexer": "ipython3",
      "version": "3.7.6"
    },
    "widgets": {
      "application/vnd.jupyter.widget-state+json": {
        "d7c821dd5d5148f3a4360c7c0effcb80": {
          "model_module": "@jupyter-widgets/controls",
          "model_name": "HBoxModel",
          "state": {
            "_view_name": "HBoxView",
            "_dom_classes": [],
            "_model_name": "HBoxModel",
            "_view_module": "@jupyter-widgets/controls",
            "_model_module_version": "1.5.0",
            "_view_count": null,
            "_view_module_version": "1.5.0",
            "box_style": "",
            "layout": "IPY_MODEL_bc06ebbc3ca04051a0792494bd919b12",
            "_model_module": "@jupyter-widgets/controls",
            "children": [
              "IPY_MODEL_be56ed5ebdeb4703ac98d279b901a287",
              "IPY_MODEL_e1897c8bcecb4a5fa83ca1af4e4613ae"
            ]
          }
        },
        "bc06ebbc3ca04051a0792494bd919b12": {
          "model_module": "@jupyter-widgets/base",
          "model_name": "LayoutModel",
          "state": {
            "_view_name": "LayoutView",
            "grid_template_rows": null,
            "right": null,
            "justify_content": null,
            "_view_module": "@jupyter-widgets/base",
            "overflow": null,
            "_model_module_version": "1.2.0",
            "_view_count": null,
            "flex_flow": null,
            "width": null,
            "min_width": null,
            "border": null,
            "align_items": null,
            "bottom": null,
            "_model_module": "@jupyter-widgets/base",
            "top": null,
            "grid_column": null,
            "overflow_y": null,
            "overflow_x": null,
            "grid_auto_flow": null,
            "grid_area": null,
            "grid_template_columns": null,
            "flex": null,
            "_model_name": "LayoutModel",
            "justify_items": null,
            "grid_row": null,
            "max_height": null,
            "align_content": null,
            "visibility": null,
            "align_self": null,
            "height": null,
            "min_height": null,
            "padding": null,
            "grid_auto_rows": null,
            "grid_gap": null,
            "max_width": null,
            "order": null,
            "_view_module_version": "1.2.0",
            "grid_template_areas": null,
            "object_position": null,
            "object_fit": null,
            "grid_auto_columns": null,
            "margin": null,
            "display": null,
            "left": null
          }
        },
        "be56ed5ebdeb4703ac98d279b901a287": {
          "model_module": "@jupyter-widgets/controls",
          "model_name": "IntProgressModel",
          "state": {
            "_view_name": "ProgressView",
            "style": "IPY_MODEL_e5b1943fc0a94180a7fa9c38a54810be",
            "_dom_classes": [],
            "description": "",
            "_model_name": "IntProgressModel",
            "bar_style": "success",
            "max": 1,
            "_view_module": "@jupyter-widgets/controls",
            "_model_module_version": "1.5.0",
            "value": 1,
            "_view_count": null,
            "_view_module_version": "1.5.0",
            "orientation": "horizontal",
            "min": 0,
            "description_tooltip": null,
            "_model_module": "@jupyter-widgets/controls",
            "layout": "IPY_MODEL_33acf6c8d6eb41c0b3552ca7715e2a14"
          }
        },
        "e1897c8bcecb4a5fa83ca1af4e4613ae": {
          "model_module": "@jupyter-widgets/controls",
          "model_name": "HTMLModel",
          "state": {
            "_view_name": "HTMLView",
            "style": "IPY_MODEL_545f0fd29ada4d3992c384a4bcd6f730",
            "_dom_classes": [],
            "description": "",
            "_model_name": "HTMLModel",
            "placeholder": "​",
            "_view_module": "@jupyter-widgets/controls",
            "_model_module_version": "1.5.0",
            "value": "170500096it [00:04, 39647287.99it/s]",
            "_view_count": null,
            "_view_module_version": "1.5.0",
            "description_tooltip": null,
            "_model_module": "@jupyter-widgets/controls",
            "layout": "IPY_MODEL_fdf9f85a98684819b93bd9108756a3f0"
          }
        },
        "e5b1943fc0a94180a7fa9c38a54810be": {
          "model_module": "@jupyter-widgets/controls",
          "model_name": "ProgressStyleModel",
          "state": {
            "_view_name": "StyleView",
            "_model_name": "ProgressStyleModel",
            "description_width": "",
            "_view_module": "@jupyter-widgets/base",
            "_model_module_version": "1.5.0",
            "_view_count": null,
            "_view_module_version": "1.2.0",
            "bar_color": null,
            "_model_module": "@jupyter-widgets/controls"
          }
        },
        "33acf6c8d6eb41c0b3552ca7715e2a14": {
          "model_module": "@jupyter-widgets/base",
          "model_name": "LayoutModel",
          "state": {
            "_view_name": "LayoutView",
            "grid_template_rows": null,
            "right": null,
            "justify_content": null,
            "_view_module": "@jupyter-widgets/base",
            "overflow": null,
            "_model_module_version": "1.2.0",
            "_view_count": null,
            "flex_flow": null,
            "width": null,
            "min_width": null,
            "border": null,
            "align_items": null,
            "bottom": null,
            "_model_module": "@jupyter-widgets/base",
            "top": null,
            "grid_column": null,
            "overflow_y": null,
            "overflow_x": null,
            "grid_auto_flow": null,
            "grid_area": null,
            "grid_template_columns": null,
            "flex": null,
            "_model_name": "LayoutModel",
            "justify_items": null,
            "grid_row": null,
            "max_height": null,
            "align_content": null,
            "visibility": null,
            "align_self": null,
            "height": null,
            "min_height": null,
            "padding": null,
            "grid_auto_rows": null,
            "grid_gap": null,
            "max_width": null,
            "order": null,
            "_view_module_version": "1.2.0",
            "grid_template_areas": null,
            "object_position": null,
            "object_fit": null,
            "grid_auto_columns": null,
            "margin": null,
            "display": null,
            "left": null
          }
        },
        "545f0fd29ada4d3992c384a4bcd6f730": {
          "model_module": "@jupyter-widgets/controls",
          "model_name": "DescriptionStyleModel",
          "state": {
            "_view_name": "StyleView",
            "_model_name": "DescriptionStyleModel",
            "description_width": "",
            "_view_module": "@jupyter-widgets/base",
            "_model_module_version": "1.5.0",
            "_view_count": null,
            "_view_module_version": "1.2.0",
            "_model_module": "@jupyter-widgets/controls"
          }
        },
        "fdf9f85a98684819b93bd9108756a3f0": {
          "model_module": "@jupyter-widgets/base",
          "model_name": "LayoutModel",
          "state": {
            "_view_name": "LayoutView",
            "grid_template_rows": null,
            "right": null,
            "justify_content": null,
            "_view_module": "@jupyter-widgets/base",
            "overflow": null,
            "_model_module_version": "1.2.0",
            "_view_count": null,
            "flex_flow": null,
            "width": null,
            "min_width": null,
            "border": null,
            "align_items": null,
            "bottom": null,
            "_model_module": "@jupyter-widgets/base",
            "top": null,
            "grid_column": null,
            "overflow_y": null,
            "overflow_x": null,
            "grid_auto_flow": null,
            "grid_area": null,
            "grid_template_columns": null,
            "flex": null,
            "_model_name": "LayoutModel",
            "justify_items": null,
            "grid_row": null,
            "max_height": null,
            "align_content": null,
            "visibility": null,
            "align_self": null,
            "height": null,
            "min_height": null,
            "padding": null,
            "grid_auto_rows": null,
            "grid_gap": null,
            "max_width": null,
            "order": null,
            "_view_module_version": "1.2.0",
            "grid_template_areas": null,
            "object_position": null,
            "object_fit": null,
            "grid_auto_columns": null,
            "margin": null,
            "display": null,
            "left": null
          }
        }
      }
    }
  },
  "cells": [
    {
      "cell_type": "markdown",
      "metadata": {
        "id": "view-in-github",
        "colab_type": "text"
      },
      "source": [
        "<a href=\"https://colab.research.google.com/github/hemantkashniyal/EVA4/blob/master/notebooks/Session8/Session_8.ipynb\" target=\"_parent\"><img src=\"https://colab.research.google.com/assets/colab-badge.svg\" alt=\"Open In Colab\"/></a>"
      ]
    },
    {
      "cell_type": "code",
      "metadata": {
        "colab_type": "code",
        "id": "PjZ1brB6K7ED",
        "outputId": "7560e48e-4e31-4775-ff86-281aba0bea32",
        "colab": {
          "base_uri": "https://localhost:8080/",
          "height": 85
        }
      },
      "source": [
        "!pwd\n",
        "\n",
        "import torch\n",
        "print(torch.cuda.is_available())\n",
        "\n",
        "! git clone https://github.com/hemantkashniyal/EVA4.git || true\n",
        "! git -C EVA4 pull\n",
        "! rm -rf eva4\n",
        "! cp -r /content/EVA4/notebooks/Session8/* ."
      ],
      "execution_count": 6,
      "outputs": [
        {
          "output_type": "stream",
          "text": [
            "/content\n",
            "True\n",
            "fatal: destination path 'EVA4' already exists and is not an empty directory.\n",
            "Already up to date.\n"
          ],
          "name": "stdout"
        }
      ]
    },
    {
      "cell_type": "code",
      "metadata": {
        "colab_type": "code",
        "id": "uWgBFzboK3T5",
        "outputId": "0d12bf66-9b8c-4ea8-b6e6-fafb9e3b2779",
        "colab": {
          "base_uri": "https://localhost:8080/",
          "height": 496
        }
      },
      "source": [
        "%env PYTHONDONTWRITEBYTECODE=true\n",
        "! pip install -r requirements.txt\n",
        "    "
      ],
      "execution_count": 7,
      "outputs": [
        {
          "output_type": "stream",
          "text": [
            "env: PYTHONDONTWRITEBYTECODE=true\n",
            "Requirement already satisfied: torch in /usr/local/lib/python3.6/dist-packages (from -r requirements.txt (line 1)) (1.4.0)\n",
            "Requirement already satisfied: torchvision in /usr/local/lib/python3.6/dist-packages (from -r requirements.txt (line 2)) (0.5.0)\n",
            "Requirement already satisfied: environs in /usr/local/lib/python3.6/dist-packages (from -r requirements.txt (line 3)) (7.3.0)\n",
            "Requirement already satisfied: torchsummary in /usr/local/lib/python3.6/dist-packages (from -r requirements.txt (line 4)) (1.5.1)\n",
            "Requirement already satisfied: ImageAug in /usr/local/lib/python3.6/dist-packages (from -r requirements.txt (line 5)) (0.1.0.post0)\n",
            "Requirement already satisfied: tqdm in /usr/local/lib/python3.6/dist-packages (from -r requirements.txt (line 6)) (4.28.1)\n",
            "Requirement already satisfied: albumentations in /usr/local/lib/python3.6/dist-packages (from -r requirements.txt (line 7)) (0.1.12)\n",
            "Requirement already satisfied: pillow>=4.1.1 in /usr/local/lib/python3.6/dist-packages (from torchvision->-r requirements.txt (line 2)) (6.2.2)\n",
            "Requirement already satisfied: six in /usr/local/lib/python3.6/dist-packages (from torchvision->-r requirements.txt (line 2)) (1.12.0)\n",
            "Requirement already satisfied: numpy in /usr/local/lib/python3.6/dist-packages (from torchvision->-r requirements.txt (line 2)) (1.17.5)\n",
            "Requirement already satisfied: marshmallow>=2.7.0 in /usr/local/lib/python3.6/dist-packages (from environs->-r requirements.txt (line 3)) (3.5.1)\n",
            "Requirement already satisfied: python-dotenv in /usr/local/lib/python3.6/dist-packages (from environs->-r requirements.txt (line 3)) (0.12.0)\n",
            "Requirement already satisfied: scipy in /usr/local/lib/python3.6/dist-packages (from albumentations->-r requirements.txt (line 7)) (1.4.1)\n",
            "Requirement already satisfied: opencv-python in /usr/local/lib/python3.6/dist-packages (from albumentations->-r requirements.txt (line 7)) (4.1.2.30)\n",
            "Requirement already satisfied: imgaug<0.2.7,>=0.2.5 in /usr/local/lib/python3.6/dist-packages (from albumentations->-r requirements.txt (line 7)) (0.2.6)\n",
            "Requirement already satisfied: scikit-image>=0.11.0 in /usr/local/lib/python3.6/dist-packages (from imgaug<0.2.7,>=0.2.5->albumentations->-r requirements.txt (line 7)) (0.16.2)\n",
            "Requirement already satisfied: PyWavelets>=0.4.0 in /usr/local/lib/python3.6/dist-packages (from scikit-image>=0.11.0->imgaug<0.2.7,>=0.2.5->albumentations->-r requirements.txt (line 7)) (1.1.1)\n",
            "Requirement already satisfied: networkx>=2.0 in /usr/local/lib/python3.6/dist-packages (from scikit-image>=0.11.0->imgaug<0.2.7,>=0.2.5->albumentations->-r requirements.txt (line 7)) (2.4)\n",
            "Requirement already satisfied: imageio>=2.3.0 in /usr/local/lib/python3.6/dist-packages (from scikit-image>=0.11.0->imgaug<0.2.7,>=0.2.5->albumentations->-r requirements.txt (line 7)) (2.4.1)\n",
            "Requirement already satisfied: matplotlib!=3.0.0,>=2.0.0 in /usr/local/lib/python3.6/dist-packages (from scikit-image>=0.11.0->imgaug<0.2.7,>=0.2.5->albumentations->-r requirements.txt (line 7)) (3.1.3)\n",
            "Requirement already satisfied: decorator>=4.3.0 in /usr/local/lib/python3.6/dist-packages (from networkx>=2.0->scikit-image>=0.11.0->imgaug<0.2.7,>=0.2.5->albumentations->-r requirements.txt (line 7)) (4.4.1)\n",
            "Requirement already satisfied: python-dateutil>=2.1 in /usr/local/lib/python3.6/dist-packages (from matplotlib!=3.0.0,>=2.0.0->scikit-image>=0.11.0->imgaug<0.2.7,>=0.2.5->albumentations->-r requirements.txt (line 7)) (2.6.1)\n",
            "Requirement already satisfied: pyparsing!=2.0.4,!=2.1.2,!=2.1.6,>=2.0.1 in /usr/local/lib/python3.6/dist-packages (from matplotlib!=3.0.0,>=2.0.0->scikit-image>=0.11.0->imgaug<0.2.7,>=0.2.5->albumentations->-r requirements.txt (line 7)) (2.4.6)\n",
            "Requirement already satisfied: cycler>=0.10 in /usr/local/lib/python3.6/dist-packages (from matplotlib!=3.0.0,>=2.0.0->scikit-image>=0.11.0->imgaug<0.2.7,>=0.2.5->albumentations->-r requirements.txt (line 7)) (0.10.0)\n",
            "Requirement already satisfied: kiwisolver>=1.0.1 in /usr/local/lib/python3.6/dist-packages (from matplotlib!=3.0.0,>=2.0.0->scikit-image>=0.11.0->imgaug<0.2.7,>=0.2.5->albumentations->-r requirements.txt (line 7)) (1.1.0)\n",
            "Requirement already satisfied: setuptools in /usr/local/lib/python3.6/dist-packages (from kiwisolver>=1.0.1->matplotlib!=3.0.0,>=2.0.0->scikit-image>=0.11.0->imgaug<0.2.7,>=0.2.5->albumentations->-r requirements.txt (line 7)) (45.2.0)\n"
          ],
          "name": "stdout"
        }
      ]
    },
    {
      "cell_type": "code",
      "metadata": {
        "colab_type": "code",
        "id": "wv-Qb03GK3T-",
        "outputId": "49c15611-d251-4e6d-b6eb-dfe67f1ee282",
        "colab": {
          "base_uri": "https://localhost:8080/",
          "height": 969
        }
      },
      "source": [
        "%matplotlib inline\n",
        "\n",
        "import json\n",
        "from torchsummary import summary\n",
        "from environs import Env\n",
        "\n",
        "from torchvision import datasets, transforms\n",
        "from eva4.config.config import TrainingConfig\n",
        "env = Env()\n",
        "env.read_env(\"./cifar10.experiment.env.txt\", recurse=False)\n",
        "\n",
        "config = TrainingConfig()\n",
        "print(\"Experiment Config: \", json.dumps(config, default=lambda x: x.__dict__, sort_keys=False, indent=4))"
      ],
      "execution_count": 8,
      "outputs": [
        {
          "output_type": "stream",
          "text": [
            "Experiment Config:  {\n",
            "    \"cuda_available\": true,\n",
            "    \"device\": \"cuda\",\n",
            "    \"epochs\": 100,\n",
            "    \"desired_accuracy\": 80.0,\n",
            "    \"break_on_reaching_desired_accuracy\": true,\n",
            "    \"consecutive_desired_accuracy\": 3,\n",
            "    \"dataset\": {\n",
            "        \"type\": \"CIFAR10\",\n",
            "        \"dataset_root\": \"./data\",\n",
            "        \"batch_size\": 512,\n",
            "        \"shuffle\": true,\n",
            "        \"num_workers\": 4,\n",
            "        \"pin_memory\": true,\n",
            "        \"input_size\": [\n",
            "            3,\n",
            "            32,\n",
            "            32\n",
            "        ],\n",
            "        \"input_channel\": 3,\n",
            "        \"input_dimension\": [\n",
            "            32,\n",
            "            32\n",
            "        ],\n",
            "        \"dataset_std\": [\n",
            "            0.247,\n",
            "            0.2435,\n",
            "            0.2616\n",
            "        ],\n",
            "        \"dataset_mean\": [\n",
            "            0.4914,\n",
            "            0.4822,\n",
            "            0.4465\n",
            "        ]\n",
            "    },\n",
            "    \"scheduler\": {\n",
            "        \"type\": \"MultiStepLR\",\n",
            "        \"milestones\": [\n",
            "            10,\n",
            "            20,\n",
            "            35,\n",
            "            50\n",
            "        ],\n",
            "        \"gamma\": 0.1\n",
            "    },\n",
            "    \"optimizer\": {\n",
            "        \"type\": \"SGD\",\n",
            "        \"learning_rate\": 0.1,\n",
            "        \"momentum\": 0.9\n",
            "    },\n",
            "    \"network\": {\n",
            "        \"dropout\": 0.1,\n",
            "        \"bias_enabled\": true,\n",
            "        \"input_channel\": 3\n",
            "    }\n",
            "}\n"
          ],
          "name": "stdout"
        }
      ]
    },
    {
      "cell_type": "code",
      "metadata": {
        "colab_type": "code",
        "id": "FZwWkWQxK3UF",
        "colab": {}
      },
      "source": [
        "from imageaug.transforms import Colorspace, RandomAdjustment, RandomRotatedCrop\n",
        "\n",
        "input_size = config.dataset.input_size\n",
        "crop_size = config.dataset.input_dimension\n",
        "angle_std = 7 # in degrees\n",
        "\n",
        "dataset_std = config.dataset.dataset_std\n",
        "dataset_mean = config.dataset.dataset_mean\n",
        "\n",
        "# Define training transforms\n",
        "train_transforms = transforms.Compose([\n",
        "    transforms.RandomCrop(32, padding=4),\n",
        "    transforms.RandomHorizontalFlip(),\n",
        "    transforms.ToTensor(),\n",
        "    transforms.Normalize(dataset_mean, dataset_std),\n",
        "])\n",
        "train_transforms = None\n",
        "\n",
        "# Define test transforms\n",
        "test_transforms = transforms.Compose([\n",
        "    transforms.ToTensor(),\n",
        "    transforms.Normalize(dataset_mean, dataset_std),\n",
        "])\n",
        "test_transforms = None"
      ],
      "execution_count": 0,
      "outputs": []
    },
    {
      "cell_type": "code",
      "metadata": {
        "colab_type": "code",
        "id": "f3Pe7uKWK3UI",
        "outputId": "e189feb2-54db-413f-d870-a0602dc76b4a",
        "colab": {
          "base_uri": "https://localhost:8080/",
          "height": 137,
          "referenced_widgets": [
            "d7c821dd5d5148f3a4360c7c0effcb80",
            "bc06ebbc3ca04051a0792494bd919b12",
            "be56ed5ebdeb4703ac98d279b901a287",
            "e1897c8bcecb4a5fa83ca1af4e4613ae",
            "e5b1943fc0a94180a7fa9c38a54810be",
            "33acf6c8d6eb41c0b3552ca7715e2a14",
            "545f0fd29ada4d3992c384a4bcd6f730",
            "fdf9f85a98684819b93bd9108756a3f0"
          ]
        }
      },
      "source": [
        "from eva4.dataset.dataset_manager import DatasetManager\n",
        "\n",
        "dataset = DatasetManager.get_dataset(config.dataset, train_transforms, test_transforms)\n"
      ],
      "execution_count": 10,
      "outputs": [
        {
          "output_type": "stream",
          "text": [
            "Downloading https://www.cs.toronto.edu/~kriz/cifar-10-python.tar.gz to ./data/cifar-10-python.tar.gz\n"
          ],
          "name": "stdout"
        },
        {
          "output_type": "display_data",
          "data": {
            "application/vnd.jupyter.widget-view+json": {
              "model_id": "d7c821dd5d5148f3a4360c7c0effcb80",
              "version_minor": 0,
              "version_major": 2
            },
            "text/plain": [
              "HBox(children=(IntProgress(value=1, bar_style='info', max=1), HTML(value='')))"
            ]
          },
          "metadata": {
            "tags": []
          }
        },
        {
          "output_type": "stream",
          "text": [
            "\n",
            "Extracting ./data/cifar-10-python.tar.gz to ./data\n",
            "Files already downloaded and verified\n"
          ],
          "name": "stdout"
        }
      ]
    },
    {
      "cell_type": "code",
      "metadata": {
        "colab_type": "code",
        "id": "dUq_zXAmK3UL",
        "colab": {
          "base_uri": "https://localhost:8080/",
          "height": 1000
        },
        "outputId": "60b6955b-75fa-488a-b7d5-8f70da85da77"
      },
      "source": [
        "from eva4.network.network_manager import NetworkManager\n",
        "\n",
        "from eva4.network.cifar10.cifar10 import CIFAR10Net\n",
        "network = CIFAR10Net(config.network).to(config.device)\n",
        "\n",
        "NetworkManager.summarize(network, config.network, config.dataset)\n"
      ],
      "execution_count": 12,
      "outputs": [
        {
          "output_type": "stream",
          "text": [
            "----------------------------------------------------------------\n",
            "        Layer (type)               Output Shape         Param #\n",
            "================================================================\n",
            "            Conv2d-1           [-1, 16, 32, 32]             432\n",
            "              ReLU-2           [-1, 16, 32, 32]               0\n",
            "       BatchNorm2d-3           [-1, 16, 32, 32]              32\n",
            "           Dropout-4           [-1, 16, 32, 32]               0\n",
            "     InternalBlock-5           [-1, 16, 32, 32]               0\n",
            "            Conv2d-6           [-1, 32, 32, 32]           4,608\n",
            "              ReLU-7           [-1, 32, 32, 32]               0\n",
            "       BatchNorm2d-8           [-1, 32, 32, 32]              64\n",
            "           Dropout-9           [-1, 32, 32, 32]               0\n",
            "    InternalBlock-10           [-1, 32, 32, 32]               0\n",
            "           Conv2d-11           [-1, 64, 30, 30]          18,432\n",
            "             ReLU-12           [-1, 64, 30, 30]               0\n",
            "      BatchNorm2d-13           [-1, 64, 30, 30]             128\n",
            "          Dropout-14           [-1, 64, 30, 30]               0\n",
            "    InternalBlock-15           [-1, 64, 30, 30]               0\n",
            "           Conv2d-16           [-1, 64, 28, 28]             576\n",
            "           Conv2d-17          [-1, 128, 30, 30]           8,192\n",
            "             ReLU-18          [-1, 128, 30, 30]               0\n",
            "      BatchNorm2d-19          [-1, 128, 30, 30]             256\n",
            "          Dropout-20          [-1, 128, 30, 30]               0\n",
            "DeepthSeparableBlock-21          [-1, 128, 30, 30]               0\n",
            "           Conv2d-22           [-1, 32, 32, 32]           4,096\n",
            "             ReLU-23           [-1, 32, 32, 32]               0\n",
            "      BatchNorm2d-24           [-1, 32, 32, 32]              64\n",
            "        MaxPool2d-25           [-1, 32, 16, 16]               0\n",
            "  TransitionBlock-26           [-1, 32, 16, 16]               0\n",
            "           Conv2d-27           [-1, 64, 16, 16]          18,432\n",
            "             ReLU-28           [-1, 64, 16, 16]               0\n",
            "      BatchNorm2d-29           [-1, 64, 16, 16]             128\n",
            "          Dropout-30           [-1, 64, 16, 16]               0\n",
            "    InternalBlock-31           [-1, 64, 16, 16]               0\n",
            "           Conv2d-32          [-1, 128, 16, 16]          73,728\n",
            "             ReLU-33          [-1, 128, 16, 16]               0\n",
            "      BatchNorm2d-34          [-1, 128, 16, 16]             256\n",
            "          Dropout-35          [-1, 128, 16, 16]               0\n",
            "    InternalBlock-36          [-1, 128, 16, 16]               0\n",
            "           Conv2d-37          [-1, 128, 16, 16]           1,152\n",
            "           Conv2d-38          [-1, 256, 18, 18]          32,768\n",
            "             ReLU-39          [-1, 256, 18, 18]               0\n",
            "      BatchNorm2d-40          [-1, 256, 18, 18]             512\n",
            "          Dropout-41          [-1, 256, 18, 18]               0\n",
            "DeepthSeparableBlock-42          [-1, 256, 18, 18]               0\n",
            "           Conv2d-43           [-1, 32, 20, 20]           8,192\n",
            "             ReLU-44           [-1, 32, 20, 20]               0\n",
            "      BatchNorm2d-45           [-1, 32, 20, 20]              64\n",
            "        MaxPool2d-46           [-1, 32, 10, 10]               0\n",
            "  TransitionBlock-47           [-1, 32, 10, 10]               0\n",
            "           Conv2d-48           [-1, 64, 10, 10]          18,432\n",
            "             ReLU-49           [-1, 64, 10, 10]               0\n",
            "      BatchNorm2d-50           [-1, 64, 10, 10]             128\n",
            "          Dropout-51           [-1, 64, 10, 10]               0\n",
            "    InternalBlock-52           [-1, 64, 10, 10]               0\n",
            "           Conv2d-53          [-1, 128, 10, 10]          73,728\n",
            "             ReLU-54          [-1, 128, 10, 10]               0\n",
            "      BatchNorm2d-55          [-1, 128, 10, 10]             256\n",
            "          Dropout-56          [-1, 128, 10, 10]               0\n",
            "    InternalBlock-57          [-1, 128, 10, 10]               0\n",
            "           Conv2d-58           [-1, 32, 12, 12]           4,096\n",
            "             ReLU-59           [-1, 32, 12, 12]               0\n",
            "      BatchNorm2d-60           [-1, 32, 12, 12]              64\n",
            "        MaxPool2d-61             [-1, 32, 6, 6]               0\n",
            "  TransitionBlock-62             [-1, 32, 6, 6]               0\n",
            "        AvgPool2d-63             [-1, 32, 1, 1]               0\n",
            "         GAPBlock-64             [-1, 32, 1, 1]               0\n",
            "           Conv2d-65             [-1, 10, 1, 1]             320\n",
            "================================================================\n",
            "Total params: 269,136\n",
            "Trainable params: 269,136\n",
            "Non-trainable params: 0\n",
            "----------------------------------------------------------------\n",
            "Input size (MB): 0.01\n",
            "Forward/backward pass size (MB): 16.21\n",
            "Params size (MB): 1.03\n",
            "Estimated Total Size (MB): 17.25\n",
            "----------------------------------------------------------------\n"
          ],
          "name": "stdout"
        },
        {
          "output_type": "stream",
          "text": [
            "/content/eva4/network/cifar10/cifar10.py:66: UserWarning: Implicit dimension choice for log_softmax has been deprecated. Change the call to include dim=X as an argument.\n",
            "  return F.log_softmax(x)\n"
          ],
          "name": "stderr"
        }
      ]
    },
    {
      "cell_type": "code",
      "metadata": {
        "colab_type": "code",
        "id": "RU1ZasFp0U9Z",
        "colab": {}
      },
      "source": [
        "from eva4.optimizer.optimizer_manager import OptimizerManager\n",
        "optimizer = OptimizerManager.get_optimizer(network, config.optimizer)\n"
      ],
      "execution_count": 0,
      "outputs": []
    },
    {
      "cell_type": "code",
      "metadata": {
        "id": "jKkyD7UCDpqk",
        "colab_type": "code",
        "colab": {}
      },
      "source": [
        "from eva4.scheduler.scheduler_manager import SchedulerManager\n",
        "scheduler = SchedulerManager.get_scheduler(optimizer, config.scheduler)\n"
      ],
      "execution_count": 0,
      "outputs": []
    },
    {
      "cell_type": "code",
      "metadata": {
        "id": "L-BFmiK0F1Yb",
        "colab_type": "code",
        "colab": {
          "base_uri": "https://localhost:8080/",
          "height": 429
        },
        "outputId": "ff0e58bb-ddf1-4a70-eda2-11013879382f"
      },
      "source": [
        "from eva4.training.training_manager import TrainingManager\n",
        "training = TrainingManager(config, dataset, network, scheduler, optimizer)\n",
        "training.start()\n"
      ],
      "execution_count": 16,
      "outputs": [
        {
          "output_type": "stream",
          "text": [
            "\r  0%|          | 0/98 [00:00<?, ?it/s]"
          ],
          "name": "stderr"
        },
        {
          "output_type": "stream",
          "text": [
            "EPOCH: 0\n"
          ],
          "name": "stdout"
        },
        {
          "output_type": "stream",
          "text": [
            "/content/eva4/network/cifar10/cifar10.py:66: UserWarning: Implicit dimension choice for log_softmax has been deprecated. Change the call to include dim=X as an argument.\n",
            "  return F.log_softmax(x)\n",
            "Loss=1.241746425628662 Batch_id=97 Accuracy=41.53: 100%|██████████| 98/98 [00:19<00:00,  5.93it/s]\n"
          ],
          "name": "stderr"
        },
        {
          "output_type": "error",
          "ename": "NameError",
          "evalue": "ignored",
          "traceback": [
            "\u001b[0;31m---------------------------------------------------------------------------\u001b[0m",
            "\u001b[0;31mNameError\u001b[0m                                 Traceback (most recent call last)",
            "\u001b[0;32m<ipython-input-16-5c2aec95f6fa>\u001b[0m in \u001b[0;36m<module>\u001b[0;34m()\u001b[0m\n\u001b[1;32m      1\u001b[0m \u001b[0;32mfrom\u001b[0m \u001b[0meva4\u001b[0m\u001b[0;34m.\u001b[0m\u001b[0mtraining\u001b[0m\u001b[0;34m.\u001b[0m\u001b[0mtraining_manager\u001b[0m \u001b[0;32mimport\u001b[0m \u001b[0mTrainingManager\u001b[0m\u001b[0;34m\u001b[0m\u001b[0;34m\u001b[0m\u001b[0m\n\u001b[1;32m      2\u001b[0m \u001b[0mtraining\u001b[0m \u001b[0;34m=\u001b[0m \u001b[0mTrainingManager\u001b[0m\u001b[0;34m(\u001b[0m\u001b[0mconfig\u001b[0m\u001b[0;34m,\u001b[0m \u001b[0mdataset\u001b[0m\u001b[0;34m,\u001b[0m \u001b[0mnetwork\u001b[0m\u001b[0;34m,\u001b[0m \u001b[0mscheduler\u001b[0m\u001b[0;34m,\u001b[0m \u001b[0moptimizer\u001b[0m\u001b[0;34m)\u001b[0m\u001b[0;34m\u001b[0m\u001b[0;34m\u001b[0m\u001b[0m\n\u001b[0;32m----> 3\u001b[0;31m \u001b[0mtraining\u001b[0m\u001b[0;34m.\u001b[0m\u001b[0mstart\u001b[0m\u001b[0;34m(\u001b[0m\u001b[0;34m)\u001b[0m\u001b[0;34m\u001b[0m\u001b[0;34m\u001b[0m\u001b[0m\n\u001b[0m",
            "\u001b[0;32m/content/eva4/training/training_manager.py\u001b[0m in \u001b[0;36mstart\u001b[0;34m(self)\u001b[0m\n\u001b[1;32m     31\u001b[0m             \u001b[0mprint\u001b[0m\u001b[0;34m(\u001b[0m\u001b[0;34m\"EPOCH:\"\u001b[0m\u001b[0;34m,\u001b[0m \u001b[0mepoch\u001b[0m\u001b[0;34m)\u001b[0m\u001b[0;34m\u001b[0m\u001b[0;34m\u001b[0m\u001b[0m\n\u001b[1;32m     32\u001b[0m             \u001b[0mself\u001b[0m\u001b[0;34m.\u001b[0m\u001b[0mtrain\u001b[0m\u001b[0;34m(\u001b[0m\u001b[0;34m)\u001b[0m\u001b[0;34m\u001b[0m\u001b[0;34m\u001b[0m\u001b[0m\n\u001b[0;32m---> 33\u001b[0;31m             \u001b[0maccuracy\u001b[0m \u001b[0;34m=\u001b[0m \u001b[0mself\u001b[0m\u001b[0;34m.\u001b[0m\u001b[0mtest\u001b[0m\u001b[0;34m(\u001b[0m\u001b[0;34m)\u001b[0m\u001b[0;34m\u001b[0m\u001b[0;34m\u001b[0m\u001b[0m\n\u001b[0m\u001b[1;32m     34\u001b[0m             \u001b[0mscheduler\u001b[0m\u001b[0;34m.\u001b[0m\u001b[0mstep\u001b[0m\u001b[0;34m(\u001b[0m\u001b[0;34m)\u001b[0m\u001b[0;34m\u001b[0m\u001b[0;34m\u001b[0m\u001b[0m\n\u001b[1;32m     35\u001b[0m             \u001b[0;32mif\u001b[0m \u001b[0mself\u001b[0m\u001b[0;34m.\u001b[0m\u001b[0mconfig\u001b[0m\u001b[0;34m.\u001b[0m\u001b[0mbreak_on_reaching_desired_accuracy\u001b[0m\u001b[0;34m:\u001b[0m\u001b[0;34m\u001b[0m\u001b[0;34m\u001b[0m\u001b[0m\n",
            "\u001b[0;32m/content/eva4/training/training_manager.py\u001b[0m in \u001b[0;36mtest\u001b[0;34m(self)\u001b[0m\n\u001b[1;32m     85\u001b[0m             \u001b[0;32mfor\u001b[0m \u001b[0mdata\u001b[0m\u001b[0;34m,\u001b[0m \u001b[0mtarget\u001b[0m \u001b[0;32min\u001b[0m \u001b[0mself\u001b[0m\u001b[0;34m.\u001b[0m\u001b[0mdataset\u001b[0m\u001b[0;34m.\u001b[0m\u001b[0mtest_loader\u001b[0m\u001b[0;34m:\u001b[0m\u001b[0;34m\u001b[0m\u001b[0;34m\u001b[0m\u001b[0m\n\u001b[1;32m     86\u001b[0m                 \u001b[0mdata\u001b[0m\u001b[0;34m,\u001b[0m \u001b[0mtarget\u001b[0m \u001b[0;34m=\u001b[0m \u001b[0mdata\u001b[0m\u001b[0;34m.\u001b[0m\u001b[0mto\u001b[0m\u001b[0;34m(\u001b[0m\u001b[0mself\u001b[0m\u001b[0;34m.\u001b[0m\u001b[0mdevice\u001b[0m\u001b[0;34m)\u001b[0m\u001b[0;34m,\u001b[0m \u001b[0mtarget\u001b[0m\u001b[0;34m.\u001b[0m\u001b[0mto\u001b[0m\u001b[0;34m(\u001b[0m\u001b[0mself\u001b[0m\u001b[0;34m.\u001b[0m\u001b[0mdevice\u001b[0m\u001b[0;34m)\u001b[0m\u001b[0;34m\u001b[0m\u001b[0;34m\u001b[0m\u001b[0m\n\u001b[0;32m---> 87\u001b[0;31m                 \u001b[0moutput\u001b[0m \u001b[0;34m=\u001b[0m \u001b[0mmodel\u001b[0m\u001b[0;34m(\u001b[0m\u001b[0mdata\u001b[0m\u001b[0;34m)\u001b[0m\u001b[0;34m\u001b[0m\u001b[0;34m\u001b[0m\u001b[0m\n\u001b[0m\u001b[1;32m     88\u001b[0m                 \u001b[0mtest_loss\u001b[0m \u001b[0;34m+=\u001b[0m \u001b[0mF\u001b[0m\u001b[0;34m.\u001b[0m\u001b[0mnll_loss\u001b[0m\u001b[0;34m(\u001b[0m\u001b[0moutput\u001b[0m\u001b[0;34m,\u001b[0m \u001b[0mtarget\u001b[0m\u001b[0;34m,\u001b[0m \u001b[0mreduction\u001b[0m\u001b[0;34m=\u001b[0m\u001b[0;34m'sum'\u001b[0m\u001b[0;34m)\u001b[0m\u001b[0;34m.\u001b[0m\u001b[0mitem\u001b[0m\u001b[0;34m(\u001b[0m\u001b[0;34m)\u001b[0m  \u001b[0;31m# sum up batch loss\u001b[0m\u001b[0;34m\u001b[0m\u001b[0;34m\u001b[0m\u001b[0m\n\u001b[1;32m     89\u001b[0m                 \u001b[0mpred\u001b[0m \u001b[0;34m=\u001b[0m \u001b[0moutput\u001b[0m\u001b[0;34m.\u001b[0m\u001b[0margmax\u001b[0m\u001b[0;34m(\u001b[0m\u001b[0mdim\u001b[0m\u001b[0;34m=\u001b[0m\u001b[0;36m1\u001b[0m\u001b[0;34m,\u001b[0m \u001b[0mkeepdim\u001b[0m\u001b[0;34m=\u001b[0m\u001b[0;32mTrue\u001b[0m\u001b[0;34m)\u001b[0m  \u001b[0;31m# get the index of the max log-probability\u001b[0m\u001b[0;34m\u001b[0m\u001b[0;34m\u001b[0m\u001b[0m\n",
            "\u001b[0;31mNameError\u001b[0m: name 'model' is not defined"
          ]
        }
      ]
    },
    {
      "cell_type": "code",
      "metadata": {
        "id": "9lQTaEz3GDy5",
        "colab_type": "code",
        "colab": {}
      },
      "source": [
        ""
      ],
      "execution_count": 0,
      "outputs": []
    }
  ]
}