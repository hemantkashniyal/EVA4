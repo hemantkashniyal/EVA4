{
  "nbformat": 4,
  "nbformat_minor": 0,
  "metadata": {
    "colab": {
      "name": "EVA4_Session_5_File2.ipynb",
      "provenance": [],
      "collapsed_sections": [],
      "include_colab_link": true
    },
    "kernelspec": {
      "name": "python3",
      "display_name": "Python 3"
    },
    "accelerator": "GPU"
  },
  "cells": [
    {
      "cell_type": "markdown",
      "metadata": {
        "id": "view-in-github",
        "colab_type": "text"
      },
      "source": [
        "<a href=\"https://colab.research.google.com/github/hemantkashniyal/EVA4/blob/master/notebooks/EVA4_Session_5_File2.ipynb\" target=\"_parent\"><img src=\"https://colab.research.google.com/assets/colab-badge.svg\" alt=\"Open In Colab\"/></a>"
      ]
    },
    {
      "cell_type": "markdown",
      "metadata": {
        "id": "cpm-aIVs4HNv",
        "colab_type": "text"
      },
      "source": [
        "# Target\n",
        "Reduce network parameters \n",
        "\n",
        "# Result\n",
        "Parameters: 9.6k\n",
        "\n",
        "Best Train Accuracy: 12.41\n",
        "\n",
        "Best Test Accuracy: 11.35\n",
        "\n",
        "# Analysis\n",
        "Reduced network parameters to 9.6k but accuracy crashed to lowest point"
      ]
    },
    {
      "cell_type": "markdown",
      "metadata": {
        "id": "aO-7t1Y7-hV4",
        "colab_type": "text"
      },
      "source": [
        "# Import Libraries"
      ]
    },
    {
      "cell_type": "code",
      "metadata": {
        "id": "8kH16rnZ7wt_",
        "colab_type": "code",
        "colab": {}
      },
      "source": [
        "from __future__ import print_function\n",
        "import torch\n",
        "import torch.nn as nn\n",
        "import torch.nn.functional as F\n",
        "import torch.optim as optim\n",
        "from torchvision import datasets, transforms\n",
        "import matplotlib.pyplot as plt\n",
        "\n",
        "\n",
        "import random \n",
        "import numpy as np\n",
        "\n",
        "\n",
        "def reset_seed(seed_value=1):\n",
        "  random.seed(seed_value)\n",
        "  np.random.seed(seed_value)\n",
        "  torch.manual_seed(seed_value)\n",
        "\n",
        "  cuda = torch.cuda.is_available()\n",
        "  print(\"CUDA Available?\", cuda)\n",
        "  if cuda:\n",
        "      torch.cuda.manual_seed(seed_value)\n",
        "\n",
        "  torch.backends.cudnn.deterministic = True\n",
        "  torch.backends.cudnn.benchmark = False"
      ],
      "execution_count": 0,
      "outputs": []
    },
    {
      "cell_type": "markdown",
      "metadata": {
        "id": "F9ZXu9YGN2Xf",
        "colab_type": "text"
      },
      "source": [
        "# Normalize Experiment"
      ]
    },
    {
      "cell_type": "code",
      "metadata": {
        "id": "dAUEEhEmN7Ej",
        "colab_type": "code",
        "outputId": "97023df9-b2dd-40be-da52-c42e6ff9b456",
        "colab": {
          "base_uri": "https://localhost:8080/",
          "height": 374
        }
      },
      "source": [
        "def get_mean_std(data_type, exp):\n",
        "  exp_data = exp.data.numpy()\n",
        "  exp_data = exp.transform(exp_data)\n",
        "\n",
        "  print('[{}]'.format(data_type))\n",
        "  print(' - Numpy Shape:', exp.data.cpu().numpy().shape)\n",
        "  print(' - Tensor Shape:', exp.data.size())\n",
        "  print(' - min:', torch.min(exp_data))\n",
        "  print(' - max:', torch.max(exp_data))\n",
        "  print(' - mean:', torch.mean(exp_data))\n",
        "  print(' - std:', torch.std(exp_data))\n",
        "  print(' - var:', torch.var(exp_data))\n",
        "\n",
        "  data_mean = torch.mean(exp_data).item()\n",
        "  print(\"{} data_mean: {}\".format(data_type, data_mean))\n",
        "\n",
        "  data_std = torch.std(exp_data).item()\n",
        "  print(\"{} data_std: {}\".format(data_type, data_std))\n",
        "\n",
        "  return data_mean, data_std\n",
        "\n",
        "# simple transform\n",
        "simple_transforms = transforms.Compose([\n",
        "                                      transforms.ToTensor(),\n",
        "                                      transforms.ToPILImage(),\n",
        "                                      transforms.Resize((28, 28)),\n",
        "                                      transforms.ColorJitter(brightness=0.10, contrast=0.1, saturation=0.10, hue=0.1),\n",
        "                                      transforms.ToTensor(),\n",
        "                                      ])\n",
        "reset_seed()\n",
        "train = datasets.MNIST('./data', train=True, download=True, transform=simple_transforms)\n",
        "test = datasets.MNIST('./data', train=False, download=True, transform=simple_transforms)\n",
        "\n",
        "train_data_mean, train_data_std = get_mean_std(\"Train\", train)\n",
        "test_data_mean, test_data_std = get_mean_std(\"Test\", test)"
      ],
      "execution_count": 2,
      "outputs": [
        {
          "output_type": "stream",
          "text": [
            "CUDA Available? True\n",
            "[Train]\n",
            " - Numpy Shape: (60000, 28, 28)\n",
            " - Tensor Shape: torch.Size([60000, 28, 28])\n",
            " - min: tensor(0.)\n",
            " - max: tensor(0.3608)\n",
            " - mean: tensor(0.1213)\n",
            " - std: tensor(0.1176)\n",
            " - var: tensor(0.0138)\n",
            "Train data_mean: 0.12131021171808243\n",
            "Train data_std: 0.11762356013059616\n",
            "[Test]\n",
            " - Numpy Shape: (10000, 28, 28)\n",
            " - Tensor Shape: torch.Size([10000, 28, 28])\n",
            " - min: tensor(0.)\n",
            " - max: tensor(0.3765)\n",
            " - mean: tensor(0.1232)\n",
            " - std: tensor(0.1238)\n",
            " - var: tensor(0.0153)\n",
            "Test data_mean: 0.12320266664028168\n",
            "Test data_std: 0.12376203387975693\n"
          ],
          "name": "stdout"
        }
      ]
    },
    {
      "cell_type": "markdown",
      "metadata": {
        "id": "ky3f_Odl-7um",
        "colab_type": "text"
      },
      "source": [
        "## Data Transformations\n",
        "\n",
        "We first start with defining our data transformations. We need to think what our data is and how can we augment it to correct represent images which it might not see otherwise. \n"
      ]
    },
    {
      "cell_type": "code",
      "metadata": {
        "id": "YtssFUKb-jqx",
        "colab_type": "code",
        "colab": {}
      },
      "source": [
        "# Train Phase transformations\n",
        "train_transforms = transforms.Compose(\n",
        "                                      simple_transforms.transforms + [\n",
        "                                      transforms.Normalize((train_data_mean,), (train_data_std,))\n",
        "                                      ])\n",
        "\n",
        "# Test Phase transformations\n",
        "test_transforms = transforms.Compose([\n",
        "                                      transforms.ToTensor(),\n",
        "                                      transforms.ToPILImage(),\n",
        "                                      transforms.Resize((28, 28)),\n",
        "                                      transforms.ColorJitter(brightness=0.10, contrast=0.1, saturation=0.10, hue=0.1),\n",
        "                                      transforms.ToTensor(),\n",
        "                                      transforms.Normalize((train_data_mean,), (train_data_std,))\n",
        "                                      ])\n"
      ],
      "execution_count": 0,
      "outputs": []
    },
    {
      "cell_type": "markdown",
      "metadata": {
        "id": "oQciFYo2B1mO",
        "colab_type": "text"
      },
      "source": [
        "# Dataset and Creating Train/Test Split"
      ]
    },
    {
      "cell_type": "code",
      "metadata": {
        "id": "_4A84rlfDA23",
        "colab_type": "code",
        "outputId": "abdb16a1-13c7-467b-8f59-8d89431747ec",
        "colab": {
          "base_uri": "https://localhost:8080/",
          "height": 34
        }
      },
      "source": [
        "reset_seed()\n",
        "train = datasets.MNIST('./data', train=True, download=True, transform=train_transforms)\n",
        "test = datasets.MNIST('./data', train=False, download=True, transform=test_transforms)"
      ],
      "execution_count": 4,
      "outputs": [
        {
          "output_type": "stream",
          "text": [
            "CUDA Available? True\n"
          ],
          "name": "stdout"
        }
      ]
    },
    {
      "cell_type": "markdown",
      "metadata": {
        "id": "qgldp_3-Dn0c",
        "colab_type": "text"
      },
      "source": [
        "# Dataloader Arguments & Test/Train Dataloaders\n"
      ]
    },
    {
      "cell_type": "code",
      "metadata": {
        "id": "C8OLDR79DrHG",
        "colab_type": "code",
        "outputId": "669c5bad-05ff-4108-819c-63f79df9e403",
        "colab": {
          "base_uri": "https://localhost:8080/",
          "height": 34
        }
      },
      "source": [
        "reset_seed()\n",
        "\n",
        "cuda = torch.cuda.is_available()\n",
        "\n",
        "# dataloader arguments - something you'll fetch these from cmdprmt\n",
        "dataloader_args = dict(shuffle=True, batch_size=512, num_workers=4, pin_memory=True) if cuda else dict(shuffle=True, batch_size=64)\n",
        "\n",
        "# train dataloader\n",
        "train_loader = torch.utils.data.DataLoader(train, **dataloader_args)\n",
        "\n",
        "# test dataloader\n",
        "test_loader = torch.utils.data.DataLoader(test, **dataloader_args)"
      ],
      "execution_count": 5,
      "outputs": [
        {
          "output_type": "stream",
          "text": [
            "CUDA Available? True\n"
          ],
          "name": "stdout"
        }
      ]
    },
    {
      "cell_type": "markdown",
      "metadata": {
        "id": "-TFjoFekE_va",
        "colab_type": "text"
      },
      "source": [
        "# Data Statistics\n",
        "\n",
        "It is important to know your data very well. Let's check some of the statistics around our data and how it actually looks like"
      ]
    },
    {
      "cell_type": "markdown",
      "metadata": {
        "id": "V4Rg_eI7Z9fv",
        "colab_type": "text"
      },
      "source": [
        "## Training Data"
      ]
    },
    {
      "cell_type": "code",
      "metadata": {
        "id": "hWZPPo3yEHDW",
        "colab_type": "code",
        "outputId": "8c301bb9-81d9-43ef-ab5f-1b9615d8cc63",
        "colab": {
          "base_uri": "https://localhost:8080/",
          "height": 486
        }
      },
      "source": [
        "# We'd need to convert it into Numpy! Remember above we have converted it into tensors already\n",
        "train_data = train.train_data\n",
        "train_data = train.transform(train_data.numpy())\n",
        "\n",
        "print('[Train]')\n",
        "print(' - Numpy Shape:', train.train_data.cpu().numpy().shape)\n",
        "print(' - Tensor Shape:', train.train_data.size())\n",
        "print(' - min:', torch.min(train_data))\n",
        "print(' - max:', torch.max(train_data))\n",
        "print(' - mean:', torch.mean(train_data))\n",
        "print(' - std:', torch.std(train_data))\n",
        "print(' - var:', torch.var(train_data))\n",
        "\n",
        "dataiter = iter(train_loader)\n",
        "images, labels = dataiter.next()\n",
        "\n",
        "print(images.shape)\n",
        "print(labels.shape)\n",
        "\n",
        "# Let's visualize some of the images\n",
        "%matplotlib inline\n",
        "import matplotlib.pyplot as plt\n",
        "\n",
        "plt.imshow(images[0].numpy().squeeze(), cmap='gray_r')\n"
      ],
      "execution_count": 6,
      "outputs": [
        {
          "output_type": "stream",
          "text": [
            "/usr/local/lib/python3.6/dist-packages/torchvision/datasets/mnist.py:55: UserWarning: train_data has been renamed data\n",
            "  warnings.warn(\"train_data has been renamed data\")\n"
          ],
          "name": "stderr"
        },
        {
          "output_type": "stream",
          "text": [
            "[Train]\n",
            " - Numpy Shape: (60000, 28, 28)\n",
            " - Tensor Shape: torch.Size([60000, 28, 28])\n",
            " - min: tensor(-1.0313)\n",
            " - max: tensor(2.0359)\n",
            " - mean: tensor(-1.1333e-07)\n",
            " - std: tensor(1.)\n",
            " - var: tensor(1.)\n",
            "torch.Size([512, 1, 28, 28])\n",
            "torch.Size([512])\n"
          ],
          "name": "stdout"
        },
        {
          "output_type": "execute_result",
          "data": {
            "text/plain": [
              "<matplotlib.image.AxesImage at 0x7f4aa6d41208>"
            ]
          },
          "metadata": {
            "tags": []
          },
          "execution_count": 6
        },
        {
          "output_type": "display_data",
          "data": {
            "image/png": "[encoded data removed]",
            "text/plain": [
              "<Figure size 432x288 with 1 Axes>"
            ]
          },
          "metadata": {
            "tags": []
          }
        }
      ]
    },
    {
      "cell_type": "markdown",
      "metadata": {
        "id": "7l9lNaWYKuik",
        "colab_type": "text"
      },
      "source": [
        "### MORE\n",
        "\n",
        "It is important that we view as many images as possible. This is required to get some idea on image augmentation later on"
      ]
    },
    {
      "cell_type": "code",
      "metadata": {
        "id": "hXXAg8hbK16u",
        "colab_type": "code",
        "outputId": "b303d589-59e1-4b72-d343-82505b0c5353",
        "colab": {
          "base_uri": "https://localhost:8080/",
          "height": 246
        }
      },
      "source": [
        "figure = plt.figure()\n",
        "num_of_images = 60\n",
        "for index in range(1, num_of_images + 1):\n",
        "    plt.subplot(6, 10, index)\n",
        "    plt.axis('off')\n",
        "    plt.imshow(images[index].numpy().squeeze(), cmap='gray_r')"
      ],
      "execution_count": 7,
      "outputs": [
        {
          "output_type": "display_data",
          "data": {
            "image/png": "[encoded data removed]",
            "text/plain": [
              "<Figure size 432x288 with 60 Axes>"
            ]
          },
          "metadata": {
            "tags": []
          }
        }
      ]
    },
    {
      "cell_type": "markdown",
      "metadata": {
        "id": "Es0uc1sJaCqq",
        "colab_type": "text"
      },
      "source": [
        "## Test Data"
      ]
    },
    {
      "cell_type": "code",
      "metadata": {
        "id": "R-ksfImVYRL_",
        "colab_type": "code",
        "outputId": "836dbdb1-859d-4b53-fd51-7677a4324f57",
        "colab": {
          "base_uri": "https://localhost:8080/",
          "height": 486
        }
      },
      "source": [
        "# We'd need to convert it into Numpy! Remember above we have converted it into tensors already\n",
        "test_data = test.test_data\n",
        "test_data = test.transform(test_data.numpy())\n",
        "\n",
        "print('[Test]')\n",
        "print(' - Numpy Shape:', test.test_data.cpu().numpy().shape)\n",
        "print(' - Tensor Shape:', test.test_data.size())\n",
        "print(' - min:', torch.min(test_data))\n",
        "print(' - max:', torch.max(test_data))\n",
        "print(' - mean:', torch.mean(test_data))\n",
        "print(' - std:', torch.std(test_data))\n",
        "print(' - var:', torch.var(test_data))\n",
        "\n",
        "dataiter = iter(test_loader)\n",
        "images, labels = dataiter.next()\n",
        "\n",
        "print(images.shape)\n",
        "print(labels.shape)\n",
        "\n",
        "# Let's visualize some of the images\n",
        "%matplotlib inline\n",
        "import matplotlib.pyplot as plt\n",
        "\n",
        "plt.imshow(images[0].numpy().squeeze(), cmap='gray_r')\n"
      ],
      "execution_count": 8,
      "outputs": [
        {
          "output_type": "stream",
          "text": [
            "[Test]\n",
            " - Numpy Shape: (10000, 28, 28)\n",
            " - Tensor Shape: torch.Size([10000, 28, 28])\n",
            " - min: tensor(-1.0313)\n",
            " - max: tensor(2.1693)\n",
            " - mean: tensor(0.0161)\n",
            " - std: tensor(1.0522)\n",
            " - var: tensor(1.1071)\n"
          ],
          "name": "stdout"
        },
        {
          "output_type": "stream",
          "text": [
            "/usr/local/lib/python3.6/dist-packages/torchvision/datasets/mnist.py:60: UserWarning: test_data has been renamed data\n",
            "  warnings.warn(\"test_data has been renamed data\")\n"
          ],
          "name": "stderr"
        },
        {
          "output_type": "stream",
          "text": [
            "torch.Size([512, 1, 28, 28])\n",
            "torch.Size([512])\n"
          ],
          "name": "stdout"
        },
        {
          "output_type": "execute_result",
          "data": {
            "text/plain": [
              "<matplotlib.image.AxesImage at 0x7f4aa8dcbd30>"
            ]
          },
          "metadata": {
            "tags": []
          },
          "execution_count": 8
        },
        {
          "output_type": "display_data",
          "data": {
            "image/png": "[encoded data removed]",
            "text/plain": [
              "<Figure size 432x288 with 1 Axes>"
            ]
          },
          "metadata": {
            "tags": []
          }
        }
      ]
    },
    {
      "cell_type": "markdown",
      "metadata": {
        "id": "iIWUiYXiahS6",
        "colab_type": "text"
      },
      "source": [
        "### MORE\n",
        "\n",
        "It is important that we view as many images as possible. This is required to get some idea on image augmentation later on"
      ]
    },
    {
      "cell_type": "code",
      "metadata": {
        "id": "gkqZMphKakqy",
        "colab_type": "code",
        "outputId": "d071ee57-ee53-4f6e-e367-1a84cc4c30cf",
        "colab": {
          "base_uri": "https://localhost:8080/",
          "height": 246
        }
      },
      "source": [
        "figure = plt.figure()\n",
        "num_of_images = 60\n",
        "for index in range(1, num_of_images + 1):\n",
        "    plt.subplot(6, 10, index)\n",
        "    plt.axis('off')\n",
        "    plt.imshow(images[index].numpy().squeeze(), cmap='gray_r')"
      ],
      "execution_count": 9,
      "outputs": [
        {
          "output_type": "display_data",
          "data": {
            "image/png": "[encoded data removed]",
            "text/plain": [
              "<Figure size 432x288 with 60 Axes>"
            ]
          },
          "metadata": {
            "tags": []
          }
        }
      ]
    },
    {
      "cell_type": "markdown",
      "metadata": {
        "id": "ubQL3H6RJL3h",
        "colab_type": "text"
      },
      "source": [
        "# The model\n",
        "Let's start with the model we first saw"
      ]
    },
    {
      "cell_type": "code",
      "metadata": {
        "id": "7FXQlB9kH1ov",
        "colab_type": "code",
        "colab": {}
      },
      "source": [
        "bias_bool = True\n",
        "class Net(nn.Module):\n",
        "    def __init__(self):\n",
        "        super(Net, self).__init__()\n",
        "\n",
        "        # Input Block\n",
        "        out_channels = 8\n",
        "        self.convblock0 = nn.Sequential(\n",
        "            nn.Conv2d(in_channels=1, out_channels=out_channels, kernel_size=(3, 3), padding=1, bias=bias_bool),\n",
        "            nn.ReLU(),\n",
        "        ) # output_size = 28 RF = 3\n",
        "\n",
        "        # CONVOLUTION BLOCK 1\n",
        "        in_channel = out_channels\n",
        "        out_channels = 8\n",
        "        self.convblock1 = nn.Sequential(\n",
        "            nn.Conv2d(in_channels=in_channel, out_channels=out_channels, kernel_size=(3, 3), padding=1, bias=bias_bool),\n",
        "            nn.ReLU(),\n",
        "        ) # output_size = 28 RF = 5\n",
        "\n",
        "        # TRANSITION BLOCK 1\n",
        "        in_channel = out_channels\n",
        "        out_channels = 16\n",
        "        self.transition1 = nn.Sequential(\n",
        "            nn.Conv2d(in_channels=in_channel, out_channels=out_channels, kernel_size=(1, 1), padding=1, bias=bias_bool),\n",
        "            nn.ReLU(),\n",
        "        ) # output_size = 28 RF = 5\n",
        "\n",
        "        self.pool1 = nn.MaxPool2d(2, 2) # output_size = 14 RF = 10\n",
        "\n",
        "        # CONVOLUTION BLOCK 2\n",
        "        in_channel = out_channels\n",
        "        out_channels = 16\n",
        "        self.convblock2 = nn.Sequential(\n",
        "            nn.Conv2d(in_channels=in_channel, out_channels=out_channels, kernel_size=(3, 3), padding=1, bias=bias_bool),\n",
        "            nn.ReLU(),\n",
        "        ) # output_size = 14 RF = 12\n",
        "\n",
        "        # CONVOLUTION BLOCK 3\n",
        "        in_channel = out_channels\n",
        "        out_channels = 16\n",
        "        self.convblock3 = nn.Sequential(\n",
        "            nn.Conv2d(in_channels=in_channel, out_channels=out_channels, kernel_size=(3, 3), padding=1, bias=bias_bool),\n",
        "            nn.ReLU(),\n",
        "        ) # output_size = 14 RF = 14\n",
        "\n",
        "        self.pool2 = nn.MaxPool2d(2, 2) # output_size = 7 RF = 28\n",
        "\n",
        "        # CONVOLUTION BLOCK 4\n",
        "        in_channel = out_channels\n",
        "        out_channels = 14\n",
        "        self.convblock4 = nn.Sequential(\n",
        "            nn.Conv2d(in_channels=in_channel, out_channels=out_channels, kernel_size=(3, 3), padding=0, bias=bias_bool),\n",
        "            nn.ReLU(),\n",
        "        ) # output_size = 5 RF = 30\n",
        "\n",
        "        # CONVOLUTION BLOCK 5\n",
        "        in_channel = out_channels\n",
        "        out_channels = 10\n",
        "        self.convblock5 = nn.Sequential(\n",
        "            nn.Conv2d(in_channels=in_channel, out_channels=out_channels, kernel_size=(3, 3), padding=0, bias=bias_bool),\n",
        "            nn.ReLU(),\n",
        "        ) # output_size = 3 RF = 32\n",
        "\n",
        "        # CONVOLUTION BLOCK 6\n",
        "        in_channel = out_channels\n",
        "        out_channels = 10\n",
        "        self.convblock6 = nn.Sequential(\n",
        "            nn.Conv2d(in_channels=in_channel, out_channels=out_channels, kernel_size=(3, 3), padding=0, bias=bias_bool),\n",
        "        ) # output_size = 1 RF = 34\n",
        "\n",
        "        self.gap = nn.AvgPool2d(1)\n",
        "\n",
        "    def forward(self, x):\n",
        "        x = self.convblock0(x)\n",
        "        x = self.convblock1(x)\n",
        "        x = self.transition1(x)\n",
        "        x = self.pool1(x)\n",
        "        x = self.convblock2(x)\n",
        "        x = self.convblock3(x)\n",
        "        x = self.pool2(x)\n",
        "        x = self.convblock4(x)\n",
        "        x = self.convblock5(x)\n",
        "        x = self.convblock6(x)\n",
        "        x = self.gap(x)\n",
        "        x = x.view(-1, 10)\n",
        "        return F.log_softmax(x, dim=-1)"
      ],
      "execution_count": 0,
      "outputs": []
    },
    {
      "cell_type": "markdown",
      "metadata": {
        "id": "M3-vp8X9LCWo",
        "colab_type": "text"
      },
      "source": [
        "# Model Params\n",
        "Can't emphasize on how important viewing Model Summary is. \n",
        "Unfortunately, there is no in-built model visualizer, so we have to take external help"
      ]
    },
    {
      "cell_type": "code",
      "metadata": {
        "id": "5skB97zIJQQe",
        "colab_type": "code",
        "outputId": "83173593-6d08-4a71-917d-66023ae0768d",
        "colab": {
          "base_uri": "https://localhost:8080/",
          "height": 561
        }
      },
      "source": [
        "#!pip install torchsummary\n",
        "from torchsummary import summary\n",
        "use_cuda = torch.cuda.is_available()\n",
        "device = torch.device(\"cuda\" if use_cuda else \"cpu\")\n",
        "print(device)\n",
        "model = Net().to(device)\n",
        "summary(model, input_size=(1, 28, 28))"
      ],
      "execution_count": 11,
      "outputs": [
        {
          "output_type": "stream",
          "text": [
            "cuda\n",
            "----------------------------------------------------------------\n",
            "        Layer (type)               Output Shape         Param #\n",
            "================================================================\n",
            "            Conv2d-1            [-1, 8, 28, 28]              80\n",
            "              ReLU-2            [-1, 8, 28, 28]               0\n",
            "            Conv2d-3            [-1, 8, 28, 28]             584\n",
            "              ReLU-4            [-1, 8, 28, 28]               0\n",
            "            Conv2d-5           [-1, 16, 30, 30]             144\n",
            "              ReLU-6           [-1, 16, 30, 30]               0\n",
            "         MaxPool2d-7           [-1, 16, 15, 15]               0\n",
            "            Conv2d-8           [-1, 16, 15, 15]           2,320\n",
            "              ReLU-9           [-1, 16, 15, 15]               0\n",
            "           Conv2d-10           [-1, 16, 15, 15]           2,320\n",
            "             ReLU-11           [-1, 16, 15, 15]               0\n",
            "        MaxPool2d-12             [-1, 16, 7, 7]               0\n",
            "           Conv2d-13             [-1, 14, 5, 5]           2,030\n",
            "             ReLU-14             [-1, 14, 5, 5]               0\n",
            "           Conv2d-15             [-1, 10, 3, 3]           1,270\n",
            "             ReLU-16             [-1, 10, 3, 3]               0\n",
            "           Conv2d-17             [-1, 10, 1, 1]             910\n",
            "        AvgPool2d-18             [-1, 10, 1, 1]               0\n",
            "================================================================\n",
            "Total params: 9,658\n",
            "Trainable params: 9,658\n",
            "Non-trainable params: 0\n",
            "----------------------------------------------------------------\n",
            "Input size (MB): 0.00\n",
            "Forward/backward pass size (MB): 0.56\n",
            "Params size (MB): 0.04\n",
            "Estimated Total Size (MB): 0.60\n",
            "----------------------------------------------------------------\n"
          ],
          "name": "stdout"
        }
      ]
    },
    {
      "cell_type": "markdown",
      "metadata": {
        "id": "1__x_SbrL7z3",
        "colab_type": "text"
      },
      "source": [
        "# Training and Testing\n",
        "\n",
        "Looking at logs can be boring, so we'll introduce **tqdm** progressbar to get cooler logs. \n",
        "\n",
        "Let's write train and test functions"
      ]
    },
    {
      "cell_type": "code",
      "metadata": {
        "id": "fbkF2nN_LYIb",
        "colab_type": "code",
        "colab": {}
      },
      "source": [
        "from tqdm import tqdm\n",
        "\n",
        "train_losses = []\n",
        "test_losses = []\n",
        "train_acc = []\n",
        "test_acc = []\n",
        "\n",
        "def train(model, device, train_loader, optimizer, epoch):\n",
        "  model.train()\n",
        "  pbar = tqdm(train_loader)\n",
        "  correct = 0\n",
        "  processed = 0\n",
        "  for batch_idx, (data, target) in enumerate(pbar):\n",
        "    # get samples\n",
        "    data, target = data.to(device), target.to(device)\n",
        "\n",
        "    # Init\n",
        "    optimizer.zero_grad()\n",
        "    # In PyTorch, we need to set the gradients to zero before starting to do backpropragation because PyTorch accumulates the gradients on subsequent backward passes. \n",
        "    # Because of this, when you start your training loop, ideally you should zero out the gradients so that you do the parameter update correctly.\n",
        "\n",
        "    # Predict\n",
        "    y_pred = model(data)\n",
        "\n",
        "    # Calculate loss\n",
        "    loss = F.nll_loss(y_pred, target)\n",
        "    train_losses.append(loss)\n",
        "\n",
        "    # Backpropagation\n",
        "    loss.backward()\n",
        "    optimizer.step()\n",
        "\n",
        "    # Update pbar-tqdm\n",
        "    \n",
        "    pred = y_pred.argmax(dim=1, keepdim=True)  # get the index of the max log-probability\n",
        "    correct += pred.eq(target.view_as(pred)).sum().item()\n",
        "    processed += len(data)\n",
        "\n",
        "    pbar.set_description(desc= f'Loss={loss.item()} Batch_id={batch_idx} Accuracy={100*correct/processed:0.2f}')\n",
        "    train_acc.append(100*correct/processed)\n",
        "\n",
        "def test(model, device, test_loader):\n",
        "    model.eval()\n",
        "    test_loss = 0\n",
        "    correct = 0\n",
        "    with torch.no_grad():\n",
        "        for data, target in test_loader:\n",
        "            data, target = data.to(device), target.to(device)\n",
        "            output = model(data)\n",
        "            test_loss += F.nll_loss(output, target, reduction='sum').item()  # sum up batch loss\n",
        "            pred = output.argmax(dim=1, keepdim=True)  # get the index of the max log-probability\n",
        "            correct += pred.eq(target.view_as(pred)).sum().item()\n",
        "\n",
        "    test_loss /= len(test_loader.dataset)\n",
        "    test_losses.append(test_loss)\n",
        "\n",
        "    print('\\nTest set: Average loss: {:.4f}, Accuracy: {}/{} ({:.2f}%)\\n'.format(\n",
        "        test_loss, correct, len(test_loader.dataset),\n",
        "        100. * correct / len(test_loader.dataset)))\n",
        "    \n",
        "    test_acc.append(100. * correct / len(test_loader.dataset))"
      ],
      "execution_count": 0,
      "outputs": []
    },
    {
      "cell_type": "markdown",
      "metadata": {
        "id": "drokW8wWODKq",
        "colab_type": "text"
      },
      "source": [
        "# Let's Train and test our model"
      ]
    },
    {
      "cell_type": "code",
      "metadata": {
        "id": "xMCFxeAKOB53",
        "colab_type": "code",
        "outputId": "f1a79bbc-bba0-4db3-96db-45537cc8e04a",
        "colab": {
          "base_uri": "https://localhost:8080/",
          "height": 1000
        }
      },
      "source": [
        "reset_seed()\n",
        "\n",
        "model =  Net().to(device)\n",
        "optimizer = optim.SGD(model.parameters(), lr=0.1, momentum=0.9)\n",
        "\n",
        "EPOCHS = 15\n",
        "for epoch in range(EPOCHS):\n",
        "    print(\"EPOCH:\", epoch)\n",
        "    train(model, device, train_loader, optimizer, epoch)\n",
        "    test(model, device, test_loader)\n"
      ],
      "execution_count": 13,
      "outputs": [
        {
          "output_type": "stream",
          "text": [
            "\r  0%|          | 0/118 [00:00<?, ?it/s]"
          ],
          "name": "stderr"
        },
        {
          "output_type": "stream",
          "text": [
            "CUDA Available? True\n",
            "EPOCH: 0\n"
          ],
          "name": "stdout"
        },
        {
          "output_type": "stream",
          "text": [
            "Loss=2.29196834564209 Batch_id=117 Accuracy=12.41: 100%|██████████| 118/118 [00:23<00:00,  5.09it/s]\n",
            "  0%|          | 0/118 [00:00<?, ?it/s]"
          ],
          "name": "stderr"
        },
        {
          "output_type": "stream",
          "text": [
            "\n",
            "Test set: Average loss: 2.3016, Accuracy: 1135/10000 (11.35%)\n",
            "\n",
            "EPOCH: 1\n"
          ],
          "name": "stdout"
        },
        {
          "output_type": "stream",
          "text": [
            "Loss=2.3050382137298584 Batch_id=117 Accuracy=11.24: 100%|██████████| 118/118 [00:23<00:00,  5.07it/s]\n",
            "  0%|          | 0/118 [00:00<?, ?it/s]"
          ],
          "name": "stderr"
        },
        {
          "output_type": "stream",
          "text": [
            "\n",
            "Test set: Average loss: 2.3013, Accuracy: 1135/10000 (11.35%)\n",
            "\n",
            "EPOCH: 2\n"
          ],
          "name": "stdout"
        },
        {
          "output_type": "stream",
          "text": [
            "Loss=2.2947351932525635 Batch_id=117 Accuracy=11.24: 100%|██████████| 118/118 [00:23<00:00,  5.07it/s]\n",
            "  0%|          | 0/118 [00:00<?, ?it/s]"
          ],
          "name": "stderr"
        },
        {
          "output_type": "stream",
          "text": [
            "\n",
            "Test set: Average loss: 2.3017, Accuracy: 1135/10000 (11.35%)\n",
            "\n",
            "EPOCH: 3\n"
          ],
          "name": "stdout"
        },
        {
          "output_type": "stream",
          "text": [
            "Loss=2.3034794330596924 Batch_id=117 Accuracy=11.14: 100%|██████████| 118/118 [00:23<00:00,  5.08it/s]\n",
            "  0%|          | 0/118 [00:00<?, ?it/s]"
          ],
          "name": "stderr"
        },
        {
          "output_type": "stream",
          "text": [
            "\n",
            "Test set: Average loss: 2.3012, Accuracy: 1135/10000 (11.35%)\n",
            "\n",
            "EPOCH: 4\n"
          ],
          "name": "stdout"
        },
        {
          "output_type": "stream",
          "text": [
            "Loss=2.300631284713745 Batch_id=117 Accuracy=11.24: 100%|██████████| 118/118 [00:23<00:00,  5.08it/s]\n",
            "  0%|          | 0/118 [00:00<?, ?it/s]"
          ],
          "name": "stderr"
        },
        {
          "output_type": "stream",
          "text": [
            "\n",
            "Test set: Average loss: 2.3014, Accuracy: 1135/10000 (11.35%)\n",
            "\n",
            "EPOCH: 5\n"
          ],
          "name": "stdout"
        },
        {
          "output_type": "stream",
          "text": [
            "Loss=2.3102591037750244 Batch_id=117 Accuracy=11.15: 100%|██████████| 118/118 [00:23<00:00,  5.11it/s]\n",
            "  0%|          | 0/118 [00:00<?, ?it/s]"
          ],
          "name": "stderr"
        },
        {
          "output_type": "stream",
          "text": [
            "\n",
            "Test set: Average loss: 2.3015, Accuracy: 1135/10000 (11.35%)\n",
            "\n",
            "EPOCH: 6\n"
          ],
          "name": "stdout"
        },
        {
          "output_type": "stream",
          "text": [
            "Loss=2.3093512058258057 Batch_id=117 Accuracy=11.18: 100%|██████████| 118/118 [00:23<00:00,  5.02it/s]\n",
            "  0%|          | 0/118 [00:00<?, ?it/s]"
          ],
          "name": "stderr"
        },
        {
          "output_type": "stream",
          "text": [
            "\n",
            "Test set: Average loss: 2.3013, Accuracy: 1135/10000 (11.35%)\n",
            "\n",
            "EPOCH: 7\n"
          ],
          "name": "stdout"
        },
        {
          "output_type": "stream",
          "text": [
            "Loss=2.303781747817993 Batch_id=117 Accuracy=11.24: 100%|██████████| 118/118 [00:23<00:00,  5.13it/s]\n",
            "  0%|          | 0/118 [00:00<?, ?it/s]"
          ],
          "name": "stderr"
        },
        {
          "output_type": "stream",
          "text": [
            "\n",
            "Test set: Average loss: 2.3013, Accuracy: 1135/10000 (11.35%)\n",
            "\n",
            "EPOCH: 8\n"
          ],
          "name": "stdout"
        },
        {
          "output_type": "stream",
          "text": [
            "Loss=2.2962300777435303 Batch_id=117 Accuracy=11.11: 100%|██████████| 118/118 [00:22<00:00,  5.15it/s]\n",
            "  0%|          | 0/118 [00:00<?, ?it/s]"
          ],
          "name": "stderr"
        },
        {
          "output_type": "stream",
          "text": [
            "\n",
            "Test set: Average loss: 2.3013, Accuracy: 1135/10000 (11.35%)\n",
            "\n",
            "EPOCH: 9\n"
          ],
          "name": "stdout"
        },
        {
          "output_type": "stream",
          "text": [
            "Loss=2.2974536418914795 Batch_id=117 Accuracy=11.17: 100%|██████████| 118/118 [00:22<00:00,  5.15it/s]\n",
            "  0%|          | 0/118 [00:00<?, ?it/s]"
          ],
          "name": "stderr"
        },
        {
          "output_type": "stream",
          "text": [
            "\n",
            "Test set: Average loss: 2.3019, Accuracy: 1135/10000 (11.35%)\n",
            "\n",
            "EPOCH: 10\n"
          ],
          "name": "stdout"
        },
        {
          "output_type": "stream",
          "text": [
            "Loss=2.297349691390991 Batch_id=117 Accuracy=11.13: 100%|██████████| 118/118 [00:22<00:00,  5.20it/s]\n",
            "  0%|          | 0/118 [00:00<?, ?it/s]"
          ],
          "name": "stderr"
        },
        {
          "output_type": "stream",
          "text": [
            "\n",
            "Test set: Average loss: 2.3018, Accuracy: 1010/10000 (10.10%)\n",
            "\n",
            "EPOCH: 11\n"
          ],
          "name": "stdout"
        },
        {
          "output_type": "stream",
          "text": [
            "Loss=2.3010599613189697 Batch_id=117 Accuracy=11.12: 100%|██████████| 118/118 [00:22<00:00,  5.26it/s]\n",
            "  0%|          | 0/118 [00:00<?, ?it/s]"
          ],
          "name": "stderr"
        },
        {
          "output_type": "stream",
          "text": [
            "\n",
            "Test set: Average loss: 2.3013, Accuracy: 1135/10000 (11.35%)\n",
            "\n",
            "EPOCH: 12\n"
          ],
          "name": "stdout"
        },
        {
          "output_type": "stream",
          "text": [
            "Loss=2.2950356006622314 Batch_id=117 Accuracy=11.14: 100%|██████████| 118/118 [00:22<00:00,  5.30it/s]\n",
            "  0%|          | 0/118 [00:00<?, ?it/s]"
          ],
          "name": "stderr"
        },
        {
          "output_type": "stream",
          "text": [
            "\n",
            "Test set: Average loss: 2.3013, Accuracy: 1135/10000 (11.35%)\n",
            "\n",
            "EPOCH: 13\n"
          ],
          "name": "stdout"
        },
        {
          "output_type": "stream",
          "text": [
            "Loss=2.308192253112793 Batch_id=117 Accuracy=11.24: 100%|██████████| 118/118 [00:22<00:00,  5.36it/s]\n",
            "  0%|          | 0/118 [00:00<?, ?it/s]"
          ],
          "name": "stderr"
        },
        {
          "output_type": "stream",
          "text": [
            "\n",
            "Test set: Average loss: 2.3010, Accuracy: 1135/10000 (11.35%)\n",
            "\n",
            "EPOCH: 14\n"
          ],
          "name": "stdout"
        },
        {
          "output_type": "stream",
          "text": [
            "Loss=2.305992364883423 Batch_id=117 Accuracy=11.24: 100%|██████████| 118/118 [00:21<00:00,  5.44it/s]\n"
          ],
          "name": "stderr"
        },
        {
          "output_type": "stream",
          "text": [
            "\n",
            "Test set: Average loss: 2.3014, Accuracy: 1135/10000 (11.35%)\n",
            "\n"
          ],
          "name": "stdout"
        }
      ]
    },
    {
      "cell_type": "code",
      "metadata": {
        "id": "87RaqGSEOWDe",
        "colab_type": "code",
        "colab": {
          "base_uri": "https://localhost:8080/",
          "height": 624
        },
        "outputId": "072db7d9-6e85-4eb2-8fa6-d35ee4807919"
      },
      "source": [
        "fig, axs = plt.subplots(2,2,figsize=(15,10))\n",
        "axs[0, 0].plot(train_losses)\n",
        "axs[0, 0].set_title(\"Training Loss\")\n",
        "axs[1, 0].plot(train_acc[4000:])\n",
        "axs[1, 0].set_title(\"Training Accuracy\")\n",
        "axs[0, 1].plot(test_losses)\n",
        "axs[0, 1].set_title(\"Test Loss\")\n",
        "axs[1, 1].plot(test_acc)\n",
        "axs[1, 1].set_title(\"Test Accuracy\")"
      ],
      "execution_count": 14,
      "outputs": [
        {
          "output_type": "execute_result",
          "data": {
            "text/plain": [
              "Text(0.5, 1.0, 'Test Accuracy')"
            ]
          },
          "metadata": {
            "tags": []
          },
          "execution_count": 14
        },
        {
          "output_type": "display_data",
          "data": {
            "image/png": "[encoded data removed]",
            "text/plain": [
              "<Figure size 1080x720 with 4 Axes>"
            ]
          },
          "metadata": {
            "tags": []
          }
        }
      ]
    }
  ]
}